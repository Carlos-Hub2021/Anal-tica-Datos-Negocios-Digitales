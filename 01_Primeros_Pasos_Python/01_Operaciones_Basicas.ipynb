{
 "cells": [
  {
   "cell_type": "markdown",
   "id": "435c22b2",
   "metadata": {},
   "source": [
    "# Operaciones Basicas en Python"
   ]
  },
  {
   "cell_type": "markdown",
   "id": "d6583d49",
   "metadata": {},
   "source": [
    "## Declacion de variables y asignacion de datos\n",
    "\n",
    "** se descrive ,los tipos de datos existentes en python "
   ]
  },
  {
   "cell_type": "code",
   "execution_count": null,
   "id": "18b10536",
   "metadata": {
    "vscode": {
     "languageId": "plaintext"
    }
   },
   "outputs": [],
   "source": [
    "# Declaracion de variables y tipos\n",
    "a = 1 # variable tipo entera int\n",
    "b = 2.3 # variable de como flotante\n",
    "c = True # variable de tipo boolean\n",
    "d = False # variable de tipo boolean\n",
    "e = \"Hola mndo\" # variable de tipo cadena\n",
    "f = 'Hola negocios digitales' # variable de tipo cadena \n",
    "\n"
   ]
  }
 ],
 "metadata": {
  "language_info": {
   "name": "python"
  }
 },
 "nbformat": 4,
 "nbformat_minor": 5
}
