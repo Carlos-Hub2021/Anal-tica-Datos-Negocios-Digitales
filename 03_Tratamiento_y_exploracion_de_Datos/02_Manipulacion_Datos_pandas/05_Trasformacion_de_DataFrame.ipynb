{
 "cells": [
  {
   "cell_type": "markdown",
   "id": "4f942524",
   "metadata": {},
   "source": [
    "## Trasformacion de DataFrame\n",
    "---\n",
    "ispeccion de dataFreame"
   ]
  },
  {
   "cell_type": "code",
   "execution_count": 5,
   "id": "4aaeb403",
   "metadata": {},
   "outputs": [],
   "source": [
    "# iporta la libreria pandas\n",
    "import pandas as pd"
   ]
  },
  {
   "cell_type": "code",
   "execution_count": 6,
   "id": "b1efc326",
   "metadata": {},
   "outputs": [],
   "source": [
    "homelessness = pd.read_csv('./datasets/homelessness.csv', index_col=0)"
   ]
  },
  {
   "cell_type": "code",
   "execution_count": 5,
   "id": "00b702e6",
   "metadata": {},
   "outputs": [
    {
     "data": {
      "text/html": [
       "<div>\n",
       "<style scoped>\n",
       "    .dataframe tbody tr th:only-of-type {\n",
       "        vertical-align: middle;\n",
       "    }\n",
       "\n",
       "    .dataframe tbody tr th {\n",
       "        vertical-align: top;\n",
       "    }\n",
       "\n",
       "    .dataframe thead th {\n",
       "        text-align: right;\n",
       "    }\n",
       "</style>\n",
       "<table border=\"1\" class=\"dataframe\">\n",
       "  <thead>\n",
       "    <tr style=\"text-align: right;\">\n",
       "      <th></th>\n",
       "      <th>region</th>\n",
       "      <th>state</th>\n",
       "      <th>individuals</th>\n",
       "      <th>family_members</th>\n",
       "      <th>state_pop</th>\n",
       "    </tr>\n",
       "  </thead>\n",
       "  <tbody>\n",
       "    <tr>\n",
       "      <th>0</th>\n",
       "      <td>East South Central</td>\n",
       "      <td>Alabama</td>\n",
       "      <td>2570.0</td>\n",
       "      <td>864.0</td>\n",
       "      <td>4887681</td>\n",
       "    </tr>\n",
       "    <tr>\n",
       "      <th>1</th>\n",
       "      <td>Pacific</td>\n",
       "      <td>Alaska</td>\n",
       "      <td>1434.0</td>\n",
       "      <td>582.0</td>\n",
       "      <td>735139</td>\n",
       "    </tr>\n",
       "    <tr>\n",
       "      <th>2</th>\n",
       "      <td>Mountain</td>\n",
       "      <td>Arizona</td>\n",
       "      <td>7259.0</td>\n",
       "      <td>2606.0</td>\n",
       "      <td>7158024</td>\n",
       "    </tr>\n",
       "    <tr>\n",
       "      <th>3</th>\n",
       "      <td>West South Central</td>\n",
       "      <td>Arkansas</td>\n",
       "      <td>2280.0</td>\n",
       "      <td>432.0</td>\n",
       "      <td>3009733</td>\n",
       "    </tr>\n",
       "    <tr>\n",
       "      <th>4</th>\n",
       "      <td>Pacific</td>\n",
       "      <td>California</td>\n",
       "      <td>109008.0</td>\n",
       "      <td>20964.0</td>\n",
       "      <td>39461588</td>\n",
       "    </tr>\n",
       "  </tbody>\n",
       "</table>\n",
       "</div>"
      ],
      "text/plain": [
       "               region       state  individuals  family_members  state_pop\n",
       "0  East South Central     Alabama       2570.0           864.0    4887681\n",
       "1             Pacific      Alaska       1434.0           582.0     735139\n",
       "2            Mountain     Arizona       7259.0          2606.0    7158024\n",
       "3  West South Central    Arkansas       2280.0           432.0    3009733\n",
       "4             Pacific  California     109008.0         20964.0   39461588"
      ]
     },
     "execution_count": 5,
     "metadata": {},
     "output_type": "execute_result"
    }
   ],
   "source": [
    "homelessness.head()"
   ]
  },
  {
   "cell_type": "code",
   "execution_count": 6,
   "id": "6622065a",
   "metadata": {},
   "outputs": [
    {
     "name": "stdout",
     "output_type": "stream",
     "text": [
      "<class 'pandas.core.frame.DataFrame'>\n",
      "Int64Index: 51 entries, 0 to 50\n",
      "Data columns (total 5 columns):\n",
      " #   Column          Non-Null Count  Dtype  \n",
      "---  ------          --------------  -----  \n",
      " 0   region          51 non-null     object \n",
      " 1   state           51 non-null     object \n",
      " 2   individuals     51 non-null     float64\n",
      " 3   family_members  51 non-null     float64\n",
      " 4   state_pop       51 non-null     int64  \n",
      "dtypes: float64(2), int64(1), object(2)\n",
      "memory usage: 2.4+ KB\n",
      "None\n"
     ]
    }
   ],
   "source": [
    "# imprimir informacion hcerca de homelessness\n",
    "print(homelessness.info())"
   ]
  },
  {
   "cell_type": "code",
   "execution_count": 7,
   "id": "fcebd9bf",
   "metadata": {},
   "outputs": [
    {
     "name": "stdout",
     "output_type": "stream",
     "text": [
      "(51, 5)\n"
     ]
    }
   ],
   "source": [
    "# inprimir el tamaño del dataframe\n",
    "print(homelessness.shape)"
   ]
  },
  {
   "cell_type": "code",
   "execution_count": 8,
   "id": "408776ec",
   "metadata": {},
   "outputs": [
    {
     "name": "stdout",
     "output_type": "stream",
     "text": [
      "         individuals  family_members     state_pop\n",
      "count      51.000000       51.000000  5.100000e+01\n",
      "mean     7225.784314     3504.882353  6.405637e+06\n",
      "std     15991.025083     7805.411811  7.327258e+06\n",
      "min       434.000000       75.000000  5.776010e+05\n",
      "25%      1446.500000      592.000000  1.777414e+06\n",
      "50%      3082.000000     1482.000000  4.461153e+06\n",
      "75%      6781.500000     3196.000000  7.340946e+06\n",
      "max    109008.000000    52070.000000  3.946159e+07\n"
     ]
    }
   ],
   "source": [
    "# inprimir la vicion de homelessness\n",
    "print(homelessness.describe())"
   ]
  },
  {
   "cell_type": "markdown",
   "id": "ada98f16",
   "metadata": {},
   "source": [
    "### Partes de un dataFrame"
   ]
  },
  {
   "cell_type": "code",
   "execution_count": 9,
   "id": "afba3073",
   "metadata": {},
   "outputs": [
    {
     "name": "stdout",
     "output_type": "stream",
     "text": [
      "[['East South Central' 'Alabama' 2570.0 864.0 4887681]\n",
      " ['Pacific' 'Alaska' 1434.0 582.0 735139]\n",
      " ['Mountain' 'Arizona' 7259.0 2606.0 7158024]\n",
      " ['West South Central' 'Arkansas' 2280.0 432.0 3009733]\n",
      " ['Pacific' 'California' 109008.0 20964.0 39461588]\n",
      " ['Mountain' 'Colorado' 7607.0 3250.0 5691287]\n",
      " ['New England' 'Connecticut' 2280.0 1696.0 3571520]\n",
      " ['South Atlantic' 'Delaware' 708.0 374.0 965479]\n",
      " ['South Atlantic' 'District of Columbia' 3770.0 3134.0 701547]\n",
      " ['South Atlantic' 'Florida' 21443.0 9587.0 21244317]\n",
      " ['South Atlantic' 'Georgia' 6943.0 2556.0 10511131]\n",
      " ['Pacific' 'Hawaii' 4131.0 2399.0 1420593]\n",
      " ['Mountain' 'Idaho' 1297.0 715.0 1750536]\n",
      " ['East North Central' 'Illinois' 6752.0 3891.0 12723071]\n",
      " ['East North Central' 'Indiana' 3776.0 1482.0 6695497]\n",
      " ['West North Central' 'Iowa' 1711.0 1038.0 3148618]\n",
      " ['West North Central' 'Kansas' 1443.0 773.0 2911359]\n",
      " ['East South Central' 'Kentucky' 2735.0 953.0 4461153]\n",
      " ['West South Central' 'Louisiana' 2540.0 519.0 4659690]\n",
      " ['New England' 'Maine' 1450.0 1066.0 1339057]\n",
      " ['South Atlantic' 'Maryland' 4914.0 2230.0 6035802]\n",
      " ['New England' 'Massachusetts' 6811.0 13257.0 6882635]\n",
      " ['East North Central' 'Michigan' 5209.0 3142.0 9984072]\n",
      " ['West North Central' 'Minnesota' 3993.0 3250.0 5606249]\n",
      " ['East South Central' 'Mississippi' 1024.0 328.0 2981020]\n",
      " ['West North Central' 'Missouri' 3776.0 2107.0 6121623]\n",
      " ['Mountain' 'Montana' 983.0 422.0 1060665]\n",
      " ['West North Central' 'Nebraska' 1745.0 676.0 1925614]\n",
      " ['Mountain' 'Nevada' 7058.0 486.0 3027341]\n",
      " ['New England' 'New Hampshire' 835.0 615.0 1353465]\n",
      " ['Mid-Atlantic' 'New Jersey' 6048.0 3350.0 8886025]\n",
      " ['Mountain' 'New Mexico' 1949.0 602.0 2092741]\n",
      " ['Mid-Atlantic' 'New York' 39827.0 52070.0 19530351]\n",
      " ['South Atlantic' 'North Carolina' 6451.0 2817.0 10381615]\n",
      " ['West North Central' 'North Dakota' 467.0 75.0 758080]\n",
      " ['East North Central' 'Ohio' 6929.0 3320.0 11676341]\n",
      " ['West South Central' 'Oklahoma' 2823.0 1048.0 3940235]\n",
      " ['Pacific' 'Oregon' 11139.0 3337.0 4181886]\n",
      " ['Mid-Atlantic' 'Pennsylvania' 8163.0 5349.0 12800922]\n",
      " ['New England' 'Rhode Island' 747.0 354.0 1058287]\n",
      " ['South Atlantic' 'South Carolina' 3082.0 851.0 5084156]\n",
      " ['West North Central' 'South Dakota' 836.0 323.0 878698]\n",
      " ['East South Central' 'Tennessee' 6139.0 1744.0 6771631]\n",
      " ['West South Central' 'Texas' 19199.0 6111.0 28628666]\n",
      " ['Mountain' 'Utah' 1904.0 972.0 3153550]\n",
      " ['New England' 'Vermont' 780.0 511.0 624358]\n",
      " ['South Atlantic' 'Virginia' 3928.0 2047.0 8501286]\n",
      " ['Pacific' 'Washington' 16424.0 5880.0 7523869]\n",
      " ['South Atlantic' 'West Virginia' 1021.0 222.0 1804291]\n",
      " ['East North Central' 'Wisconsin' 2740.0 2167.0 5807406]\n",
      " ['Mountain' 'Wyoming' 434.0 205.0 577601]]\n"
     ]
    }
   ],
   "source": [
    "# imprimir los valores del dataFRame\n",
    "print(homelessness.values)"
   ]
  },
  {
   "cell_type": "code",
   "execution_count": 11,
   "id": "8864bc82",
   "metadata": {},
   "outputs": [
    {
     "name": "stdout",
     "output_type": "stream",
     "text": [
      "Index(['region', 'state', 'individuals', 'family_members', 'state_pop'], dtype='object')\n"
     ]
    }
   ],
   "source": [
    "# inprimir los indices  de las coolumnas del dataframe\n",
    "print(homelessness.columns)\n"
   ]
  },
  {
   "cell_type": "code",
   "execution_count": 12,
   "id": "44ce97dd",
   "metadata": {},
   "outputs": [
    {
     "name": "stdout",
     "output_type": "stream",
     "text": [
      "Int64Index([ 0,  1,  2,  3,  4,  5,  6,  7,  8,  9, 10, 11, 12, 13, 14, 15, 16,\n",
      "            17, 18, 19, 20, 21, 22, 23, 24, 25, 26, 27, 28, 29, 30, 31, 32, 33,\n",
      "            34, 35, 36, 37, 38, 39, 40, 41, 42, 43, 44, 45, 46, 47, 48, 49,\n",
      "            50],\n",
      "           dtype='int64')\n"
     ]
    }
   ],
   "source": [
    "# imprimir los indices de las filas del dataframe\n",
    "print(homelessness.index)"
   ]
  },
  {
   "cell_type": "markdown",
   "id": "ae76e570",
   "metadata": {},
   "source": [
    "### Ordenar filas \n",
    "| oerdenar en...  | Sintaxis\n",
    "|-----------------|-------------------------|\n",
    "|una columna      |`df.sort_values(\"bread\")`|\n",
    "|varias columnas  |`df.sort_values(['bread','weight_kg'])` |"
   ]
  },
  {
   "cell_type": "markdown",
   "id": "794d7788",
   "metadata": {},
   "source": [
    "1. Ordenar `homelessness` poe el numero de personas sin hogar de la columna individuals de menor a mayor \n",
    "2. Ordena el homelessness poe el numero de personas sin hogar `family_members` en orden desecendente y guarda el resultado en `homelessness_fam`\n",
    "3. Ordena homelessness por region (ascendente) y luego por numero de nimbros de la familia (descendente). guarda el resultado en `homelessness_reg_fam`\n",
    "\n"
   ]
  },
  {
   "cell_type": "code",
   "execution_count": null,
   "id": "b996f92f",
   "metadata": {},
   "outputs": [],
   "source": []
  },
  {
   "cell_type": "code",
   "execution_count": null,
   "id": "e9c86459",
   "metadata": {},
   "outputs": [
    {
     "name": "stdout",
     "output_type": "stream",
     "text": [
      "                region          state  individuals  family_members  state_pop\n",
      "50            Mountain        Wyoming        434.0           205.0     577601\n",
      "34  West North Central   North Dakota        467.0            75.0     758080\n",
      "7       South Atlantic       Delaware        708.0           374.0     965479\n",
      "39         New England   Rhode Island        747.0           354.0    1058287\n",
      "45         New England        Vermont        780.0           511.0     624358\n",
      "29         New England  New Hampshire        835.0           615.0    1353465\n",
      "41  West North Central   South Dakota        836.0           323.0     878698\n",
      "26            Mountain        Montana        983.0           422.0    1060665\n",
      "48      South Atlantic  West Virginia       1021.0           222.0    1804291\n",
      "24  East South Central    Mississippi       1024.0           328.0    2981020\n"
     ]
    }
   ],
   "source": [
    "# 1\n",
    "homelessness_ind = homelessness.sort_values('individuals')\n",
    "print(homelessness_ind.head(10))"
   ]
  },
  {
   "cell_type": "code",
   "execution_count": 18,
   "id": "91fdd0dd",
   "metadata": {},
   "outputs": [
    {
     "name": "stdout",
     "output_type": "stream",
     "text": [
      "                region          state  individuals  family_members  state_pop\n",
      "32        Mid-Atlantic       New York      39827.0         52070.0   19530351\n",
      "4              Pacific     California     109008.0         20964.0   39461588\n",
      "21         New England  Massachusetts       6811.0         13257.0    6882635\n",
      "9       South Atlantic        Florida      21443.0          9587.0   21244317\n",
      "43  West South Central          Texas      19199.0          6111.0   28628666\n",
      "47             Pacific     Washington      16424.0          5880.0    7523869\n",
      "38        Mid-Atlantic   Pennsylvania       8163.0          5349.0   12800922\n",
      "13  East North Central       Illinois       6752.0          3891.0   12723071\n",
      "30        Mid-Atlantic     New Jersey       6048.0          3350.0    8886025\n",
      "37             Pacific         Oregon      11139.0          3337.0    4181886\n"
     ]
    }
   ],
   "source": [
    "#2\n",
    "# ordena el homelessness por family_members en orden desecendente  \n",
    "homelessness_fam = homelessness.sort_values('family_members', ascending=False)\n",
    "print(homelessness_fam.head(10))"
   ]
  },
  {
   "cell_type": "code",
   "execution_count": 19,
   "id": "a8a6ab0d",
   "metadata": {},
   "outputs": [
    {
     "name": "stdout",
     "output_type": "stream",
     "text": [
      "                region         state  individuals  family_members  state_pop\n",
      "13  East North Central      Illinois       6752.0          3891.0   12723071\n",
      "35  East North Central          Ohio       6929.0          3320.0   11676341\n",
      "22  East North Central      Michigan       5209.0          3142.0    9984072\n",
      "49  East North Central     Wisconsin       2740.0          2167.0    5807406\n",
      "14  East North Central       Indiana       3776.0          1482.0    6695497\n",
      "42  East South Central     Tennessee       6139.0          1744.0    6771631\n",
      "17  East South Central      Kentucky       2735.0           953.0    4461153\n",
      "0   East South Central       Alabama       2570.0           864.0    4887681\n",
      "24  East South Central   Mississippi       1024.0           328.0    2981020\n",
      "32        Mid-Atlantic      New York      39827.0         52070.0   19530351\n",
      "38        Mid-Atlantic  Pennsylvania       8163.0          5349.0   12800922\n",
      "30        Mid-Atlantic    New Jersey       6048.0          3350.0    8886025\n",
      "5             Mountain      Colorado       7607.0          3250.0    5691287\n",
      "2             Mountain       Arizona       7259.0          2606.0    7158024\n",
      "44            Mountain          Utah       1904.0           972.0    3153550\n",
      "12            Mountain         Idaho       1297.0           715.0    1750536\n",
      "31            Mountain    New Mexico       1949.0           602.0    2092741\n",
      "28            Mountain        Nevada       7058.0           486.0    3027341\n",
      "26            Mountain       Montana        983.0           422.0    1060665\n",
      "50            Mountain       Wyoming        434.0           205.0     577601\n"
     ]
    }
   ],
   "source": [
    "#3\n",
    "homelessness_reg_fam = homelessness.sort_values(['region', 'family_members'], ascending=[True, False])\n",
    "print(homelessness_reg_fam.head(20))"
   ]
  },
  {
   "cell_type": "markdown",
   "id": "f64d259b",
   "metadata": {},
   "source": [
    "## Subconjuntar  de columnas\n",
    "### hay muhas formas de subconjuntar columnas de un dataframe, quisas la mas comun es usar columnas se utilizan operadores relaccionales para devolver un true o false para cada fila y luego pasarlo a corchets\n",
    " `dogs[dogs['height_cm'] > 60]`\n",
    " `dogs[dogs['color']=='tan']`\n",
    "\n",
    " puedes filtrar por varias condiciones a la vez utilizados el operador &\n",
    " `dogs[(dogs['height_cm'] > 60) & (dogs['color']=='tan')]`\n",
    "\n",
    "### Istrucciones\n",
    "1. filtrar homelessness para los casos en los que el numero de individuos sea superior a diez mil, asignandolos a `ind_gt_10K`. visualizar el resultado\n",
    "2. filtar homelessness para los casos en llos que la region de Mountain asignado a Mountain_reg visualizar el resultado\n",
    "3. filtar homelessness para que los numero de casos de family_members dea inferior a mil y la region sea 'Pacific' asignandolo a fam_lt_1K_pat "
   ]
  },
  {
   "cell_type": "code",
   "execution_count": 21,
   "id": "54dab82c",
   "metadata": {},
   "outputs": [
    {
     "name": "stdout",
     "output_type": "stream",
     "text": [
      "                region       state  individuals  family_members  state_pop\n",
      "4              Pacific  California     109008.0         20964.0   39461588\n",
      "9       South Atlantic     Florida      21443.0          9587.0   21244317\n",
      "32        Mid-Atlantic    New York      39827.0         52070.0   19530351\n",
      "37             Pacific      Oregon      11139.0          3337.0    4181886\n",
      "43  West South Central       Texas      19199.0          6111.0   28628666\n",
      "47             Pacific  Washington      16424.0          5880.0    7523869\n"
     ]
    }
   ],
   "source": [
    "#1\n",
    "ind_gt_10K = homelessness[homelessness['individuals'] > 10000]\n",
    "print(ind_gt_10K.head(10))"
   ]
  },
  {
   "cell_type": "code",
   "execution_count": 25,
   "id": "236bb55d",
   "metadata": {},
   "outputs": [
    {
     "name": "stdout",
     "output_type": "stream",
     "text": [
      "      region       state  individuals  family_members  state_pop\n",
      "2   Mountain     Arizona       7259.0          2606.0    7158024\n",
      "5   Mountain    Colorado       7607.0          3250.0    5691287\n",
      "12  Mountain       Idaho       1297.0           715.0    1750536\n",
      "26  Mountain     Montana        983.0           422.0    1060665\n",
      "28  Mountain      Nevada       7058.0           486.0    3027341\n",
      "31  Mountain  New Mexico       1949.0           602.0    2092741\n",
      "44  Mountain        Utah       1904.0           972.0    3153550\n",
      "50  Mountain     Wyoming        434.0           205.0     577601\n"
     ]
    }
   ],
   "source": [
    "# 2\n",
    "mountain_reg = homelessness[homelessness['region'] == 'Mountain']\n",
    "mountain_reg.sort_values('region', ascending=True)\n",
    "print(mountain_reg.head(10))"
   ]
  },
  {
   "cell_type": "code",
   "execution_count": 26,
   "id": "b9e8adbe",
   "metadata": {},
   "outputs": [
    {
     "name": "stdout",
     "output_type": "stream",
     "text": [
      "    region   state  individuals  family_members  state_pop\n",
      "1  Pacific  Alaska       1434.0           582.0     735139\n"
     ]
    }
   ],
   "source": [
    "# 3\n",
    "fam_lt_1K_pat = homelessness[(homelessness['family_members'] < 1000) & (homelessness['region'] == 'Pacific')]\n",
    "print(fam_lt_1K_pat.head(10))\n"
   ]
  },
  {
   "cell_type": "markdown",
   "id": "f78b0c0a",
   "metadata": {},
   "source": [
    "## Subconjuto de filas por variables categoricas\n",
    "> utiliza el metodo `isnin()` que te permitira a bordar el problema escribiendo en una sola condicion en lugar de varias , porque para secmentar variables categoricas se utilisa el valos `|` \n",
    "\n",
    "`color = ['brown','azul','amarillo']`\n",
    "`condition = dogs ['color'].isin(colors)`\n",
    "`dogs['condition']`\n",
    "### Instruciones \n",
    "1. Filta `homelessness` para los casos que en los censor para los estados california, arizona, nevad y utha asignandolo a mojave_homelessness"
   ]
  },
  {
   "cell_type": "code",
   "execution_count": 27,
   "id": "de61bf41",
   "metadata": {},
   "outputs": [
    {
     "name": "stdout",
     "output_type": "stream",
     "text": [
      "      region       state  individuals  family_members  state_pop\n",
      "2   Mountain     Arizona       7259.0          2606.0    7158024\n",
      "4    Pacific  California     109008.0         20964.0   39461588\n",
      "28  Mountain      Nevada       7058.0           486.0    3027341\n",
      "44  Mountain        Utah       1904.0           972.0    3153550\n"
     ]
    }
   ],
   "source": [
    "# 1\n",
    "canus = ['California', 'Arizona', 'Nevada', 'Utah']\n",
    "mojave_homelessness = homelessness[homelessness['state'].isin(canus)]    \n",
    "print(mojave_homelessness.head(10))"
   ]
  },
  {
   "cell_type": "markdown",
   "id": "5799c4c7",
   "metadata": {},
   "source": [
    "## Añadir nuevas columnas\n",
    "No te quedes solo con los datos que te dan. En su lugar, se pueden añadir nuevas columnas a un dataframe. A esto se le llama tramsformación, mutación e ingeniería de características\n",
    "\n",
    "Se pueden crear columnas nuevas desde 0, pero es habitual derivarlas de otras columnas, por ejemplo, sumando columnas o cambiando sus unidades.\n",
    "\n",
    "*Instrucciones*\n",
    "- Añade una nueva columna a homelessness denominada total, que contenga la suma de las columnas individuales y family_members\n",
    "\n",
    "- Añade otra columna a homelessness, denominado p_homelessness que contenga la proporción de la población de personas sin hogar total con respecto a la población total de cada estado stage_pop"
   ]
  },
  {
   "cell_type": "code",
   "execution_count": 12,
   "id": "a7900b46",
   "metadata": {},
   "outputs": [
    {
     "data": {
      "text/html": [
       "<div>\n",
       "<style scoped>\n",
       "    .dataframe tbody tr th:only-of-type {\n",
       "        vertical-align: middle;\n",
       "    }\n",
       "\n",
       "    .dataframe tbody tr th {\n",
       "        vertical-align: top;\n",
       "    }\n",
       "\n",
       "    .dataframe thead th {\n",
       "        text-align: right;\n",
       "    }\n",
       "</style>\n",
       "<table border=\"1\" class=\"dataframe\">\n",
       "  <thead>\n",
       "    <tr style=\"text-align: right;\">\n",
       "      <th></th>\n",
       "      <th>region</th>\n",
       "      <th>state</th>\n",
       "      <th>individuals</th>\n",
       "      <th>family_members</th>\n",
       "      <th>state_pop</th>\n",
       "      <th>total</th>\n",
       "      <th>p_homelessness</th>\n",
       "    </tr>\n",
       "  </thead>\n",
       "  <tbody>\n",
       "    <tr>\n",
       "      <th>0</th>\n",
       "      <td>East South Central</td>\n",
       "      <td>Alabama</td>\n",
       "      <td>2570.0</td>\n",
       "      <td>864.0</td>\n",
       "      <td>4887681</td>\n",
       "      <td>3434.0</td>\n",
       "      <td>0.000703</td>\n",
       "    </tr>\n",
       "    <tr>\n",
       "      <th>1</th>\n",
       "      <td>Pacific</td>\n",
       "      <td>Alaska</td>\n",
       "      <td>1434.0</td>\n",
       "      <td>582.0</td>\n",
       "      <td>735139</td>\n",
       "      <td>2016.0</td>\n",
       "      <td>0.002742</td>\n",
       "    </tr>\n",
       "    <tr>\n",
       "      <th>2</th>\n",
       "      <td>Mountain</td>\n",
       "      <td>Arizona</td>\n",
       "      <td>7259.0</td>\n",
       "      <td>2606.0</td>\n",
       "      <td>7158024</td>\n",
       "      <td>9865.0</td>\n",
       "      <td>0.001378</td>\n",
       "    </tr>\n",
       "    <tr>\n",
       "      <th>3</th>\n",
       "      <td>West South Central</td>\n",
       "      <td>Arkansas</td>\n",
       "      <td>2280.0</td>\n",
       "      <td>432.0</td>\n",
       "      <td>3009733</td>\n",
       "      <td>2712.0</td>\n",
       "      <td>0.000901</td>\n",
       "    </tr>\n",
       "    <tr>\n",
       "      <th>4</th>\n",
       "      <td>Pacific</td>\n",
       "      <td>California</td>\n",
       "      <td>109008.0</td>\n",
       "      <td>20964.0</td>\n",
       "      <td>39461588</td>\n",
       "      <td>129972.0</td>\n",
       "      <td>0.003294</td>\n",
       "    </tr>\n",
       "    <tr>\n",
       "      <th>5</th>\n",
       "      <td>Mountain</td>\n",
       "      <td>Colorado</td>\n",
       "      <td>7607.0</td>\n",
       "      <td>3250.0</td>\n",
       "      <td>5691287</td>\n",
       "      <td>10857.0</td>\n",
       "      <td>0.001908</td>\n",
       "    </tr>\n",
       "    <tr>\n",
       "      <th>6</th>\n",
       "      <td>New England</td>\n",
       "      <td>Connecticut</td>\n",
       "      <td>2280.0</td>\n",
       "      <td>1696.0</td>\n",
       "      <td>3571520</td>\n",
       "      <td>3976.0</td>\n",
       "      <td>0.001113</td>\n",
       "    </tr>\n",
       "    <tr>\n",
       "      <th>7</th>\n",
       "      <td>South Atlantic</td>\n",
       "      <td>Delaware</td>\n",
       "      <td>708.0</td>\n",
       "      <td>374.0</td>\n",
       "      <td>965479</td>\n",
       "      <td>1082.0</td>\n",
       "      <td>0.001121</td>\n",
       "    </tr>\n",
       "    <tr>\n",
       "      <th>8</th>\n",
       "      <td>South Atlantic</td>\n",
       "      <td>District of Columbia</td>\n",
       "      <td>3770.0</td>\n",
       "      <td>3134.0</td>\n",
       "      <td>701547</td>\n",
       "      <td>6904.0</td>\n",
       "      <td>0.009841</td>\n",
       "    </tr>\n",
       "    <tr>\n",
       "      <th>9</th>\n",
       "      <td>South Atlantic</td>\n",
       "      <td>Florida</td>\n",
       "      <td>21443.0</td>\n",
       "      <td>9587.0</td>\n",
       "      <td>21244317</td>\n",
       "      <td>31030.0</td>\n",
       "      <td>0.001461</td>\n",
       "    </tr>\n",
       "  </tbody>\n",
       "</table>\n",
       "</div>"
      ],
      "text/plain": [
       "               region                 state  individuals  family_members  \\\n",
       "0  East South Central               Alabama       2570.0           864.0   \n",
       "1             Pacific                Alaska       1434.0           582.0   \n",
       "2            Mountain               Arizona       7259.0          2606.0   \n",
       "3  West South Central              Arkansas       2280.0           432.0   \n",
       "4             Pacific            California     109008.0         20964.0   \n",
       "5            Mountain              Colorado       7607.0          3250.0   \n",
       "6         New England           Connecticut       2280.0          1696.0   \n",
       "7      South Atlantic              Delaware        708.0           374.0   \n",
       "8      South Atlantic  District of Columbia       3770.0          3134.0   \n",
       "9      South Atlantic               Florida      21443.0          9587.0   \n",
       "\n",
       "   state_pop     total  p_homelessness  \n",
       "0    4887681    3434.0        0.000703  \n",
       "1     735139    2016.0        0.002742  \n",
       "2    7158024    9865.0        0.001378  \n",
       "3    3009733    2712.0        0.000901  \n",
       "4   39461588  129972.0        0.003294  \n",
       "5    5691287   10857.0        0.001908  \n",
       "6    3571520    3976.0        0.001113  \n",
       "7     965479    1082.0        0.001121  \n",
       "8     701547    6904.0        0.009841  \n",
       "9   21244317   31030.0        0.001461  "
      ]
     },
     "execution_count": 12,
     "metadata": {},
     "output_type": "execute_result"
    }
   ],
   "source": [
    "# Agregar una columna Total con la suma de individuals y family_members\n",
    "homelessness['total'] = homelessness['individuals'] + homelessness['family_members']\n",
    "\n",
    "# agregar una columna p_homelessness como proporción del total de homeless de la población para el estado de la población\n",
    "homelessness['p_homelessness'] = homelessness['total'] / homelessness['state_pop']\n",
    "\n",
    "homelessness.head(10)\n"
   ]
  },
  {
   "cell_type": "code",
   "execution_count": 14,
   "id": "83010707",
   "metadata": {},
   "outputs": [
    {
     "data": {
      "text/html": [
       "<div>\n",
       "<style scoped>\n",
       "    .dataframe tbody tr th:only-of-type {\n",
       "        vertical-align: middle;\n",
       "    }\n",
       "\n",
       "    .dataframe tbody tr th {\n",
       "        vertical-align: top;\n",
       "    }\n",
       "\n",
       "    .dataframe thead th {\n",
       "        text-align: right;\n",
       "    }\n",
       "</style>\n",
       "<table border=\"1\" class=\"dataframe\">\n",
       "  <thead>\n",
       "    <tr style=\"text-align: right;\">\n",
       "      <th></th>\n",
       "      <th>state</th>\n",
       "      <th>individuals</th>\n",
       "      <th>state_pop</th>\n",
       "      <th>total</th>\n",
       "      <th>p_homelessness</th>\n",
       "    </tr>\n",
       "  </thead>\n",
       "  <tbody>\n",
       "    <tr>\n",
       "      <th>0</th>\n",
       "      <td>Alabama</td>\n",
       "      <td>2570.0</td>\n",
       "      <td>4887681</td>\n",
       "      <td>3434.0</td>\n",
       "      <td>0.000703</td>\n",
       "    </tr>\n",
       "    <tr>\n",
       "      <th>1</th>\n",
       "      <td>Alaska</td>\n",
       "      <td>1434.0</td>\n",
       "      <td>735139</td>\n",
       "      <td>2016.0</td>\n",
       "      <td>0.002742</td>\n",
       "    </tr>\n",
       "    <tr>\n",
       "      <th>2</th>\n",
       "      <td>Arizona</td>\n",
       "      <td>7259.0</td>\n",
       "      <td>7158024</td>\n",
       "      <td>9865.0</td>\n",
       "      <td>0.001378</td>\n",
       "    </tr>\n",
       "    <tr>\n",
       "      <th>3</th>\n",
       "      <td>Arkansas</td>\n",
       "      <td>2280.0</td>\n",
       "      <td>3009733</td>\n",
       "      <td>2712.0</td>\n",
       "      <td>0.000901</td>\n",
       "    </tr>\n",
       "    <tr>\n",
       "      <th>4</th>\n",
       "      <td>California</td>\n",
       "      <td>109008.0</td>\n",
       "      <td>39461588</td>\n",
       "      <td>129972.0</td>\n",
       "      <td>0.003294</td>\n",
       "    </tr>\n",
       "    <tr>\n",
       "      <th>5</th>\n",
       "      <td>Colorado</td>\n",
       "      <td>7607.0</td>\n",
       "      <td>5691287</td>\n",
       "      <td>10857.0</td>\n",
       "      <td>0.001908</td>\n",
       "    </tr>\n",
       "    <tr>\n",
       "      <th>6</th>\n",
       "      <td>Connecticut</td>\n",
       "      <td>2280.0</td>\n",
       "      <td>3571520</td>\n",
       "      <td>3976.0</td>\n",
       "      <td>0.001113</td>\n",
       "    </tr>\n",
       "    <tr>\n",
       "      <th>7</th>\n",
       "      <td>Delaware</td>\n",
       "      <td>708.0</td>\n",
       "      <td>965479</td>\n",
       "      <td>1082.0</td>\n",
       "      <td>0.001121</td>\n",
       "    </tr>\n",
       "    <tr>\n",
       "      <th>8</th>\n",
       "      <td>District of Columbia</td>\n",
       "      <td>3770.0</td>\n",
       "      <td>701547</td>\n",
       "      <td>6904.0</td>\n",
       "      <td>0.009841</td>\n",
       "    </tr>\n",
       "    <tr>\n",
       "      <th>9</th>\n",
       "      <td>Florida</td>\n",
       "      <td>21443.0</td>\n",
       "      <td>21244317</td>\n",
       "      <td>31030.0</td>\n",
       "      <td>0.001461</td>\n",
       "    </tr>\n",
       "  </tbody>\n",
       "</table>\n",
       "</div>"
      ],
      "text/plain": [
       "                  state  individuals  state_pop     total  p_homelessness\n",
       "0               Alabama       2570.0    4887681    3434.0        0.000703\n",
       "1                Alaska       1434.0     735139    2016.0        0.002742\n",
       "2               Arizona       7259.0    7158024    9865.0        0.001378\n",
       "3              Arkansas       2280.0    3009733    2712.0        0.000901\n",
       "4            California     109008.0   39461588  129972.0        0.003294\n",
       "5              Colorado       7607.0    5691287   10857.0        0.001908\n",
       "6           Connecticut       2280.0    3571520    3976.0        0.001113\n",
       "7              Delaware        708.0     965479    1082.0        0.001121\n",
       "8  District of Columbia       3770.0     701547    6904.0        0.009841\n",
       "9               Florida      21443.0   21244317   31030.0        0.001461"
      ]
     },
     "execution_count": 14,
     "metadata": {},
     "output_type": "execute_result"
    }
   ],
   "source": [
    "# imprimir que solo se muestre las columnas state, individuals, state_pop, total y p_homelessness\n",
    "columnas = ['state', 'individuals', 'state_pop', 'total', 'p_homelessness']\n",
    "homelessness[columnas].head(10)\n"
   ]
  },
  {
   "cell_type": "code",
   "execution_count": 15,
   "id": "c6074c77",
   "metadata": {},
   "outputs": [
    {
     "data": {
      "text/html": [
       "<div>\n",
       "<style scoped>\n",
       "    .dataframe tbody tr th:only-of-type {\n",
       "        vertical-align: middle;\n",
       "    }\n",
       "\n",
       "    .dataframe tbody tr th {\n",
       "        vertical-align: top;\n",
       "    }\n",
       "\n",
       "    .dataframe thead th {\n",
       "        text-align: right;\n",
       "    }\n",
       "</style>\n",
       "<table border=\"1\" class=\"dataframe\">\n",
       "  <thead>\n",
       "    <tr style=\"text-align: right;\">\n",
       "      <th></th>\n",
       "      <th>state</th>\n",
       "      <th>individuals</th>\n",
       "      <th>state_pop</th>\n",
       "      <th>total</th>\n",
       "      <th>p_homelessness</th>\n",
       "    </tr>\n",
       "  </thead>\n",
       "  <tbody>\n",
       "    <tr>\n",
       "      <th>0</th>\n",
       "      <td>Alabama</td>\n",
       "      <td>2570.0</td>\n",
       "      <td>4887681</td>\n",
       "      <td>3434.0</td>\n",
       "      <td>0.000703</td>\n",
       "    </tr>\n",
       "    <tr>\n",
       "      <th>1</th>\n",
       "      <td>Alaska</td>\n",
       "      <td>1434.0</td>\n",
       "      <td>735139</td>\n",
       "      <td>2016.0</td>\n",
       "      <td>0.002742</td>\n",
       "    </tr>\n",
       "    <tr>\n",
       "      <th>2</th>\n",
       "      <td>Arizona</td>\n",
       "      <td>7259.0</td>\n",
       "      <td>7158024</td>\n",
       "      <td>9865.0</td>\n",
       "      <td>0.001378</td>\n",
       "    </tr>\n",
       "    <tr>\n",
       "      <th>3</th>\n",
       "      <td>Arkansas</td>\n",
       "      <td>2280.0</td>\n",
       "      <td>3009733</td>\n",
       "      <td>2712.0</td>\n",
       "      <td>0.000901</td>\n",
       "    </tr>\n",
       "    <tr>\n",
       "      <th>4</th>\n",
       "      <td>California</td>\n",
       "      <td>109008.0</td>\n",
       "      <td>39461588</td>\n",
       "      <td>129972.0</td>\n",
       "      <td>0.003294</td>\n",
       "    </tr>\n",
       "    <tr>\n",
       "      <th>5</th>\n",
       "      <td>Colorado</td>\n",
       "      <td>7607.0</td>\n",
       "      <td>5691287</td>\n",
       "      <td>10857.0</td>\n",
       "      <td>0.001908</td>\n",
       "    </tr>\n",
       "    <tr>\n",
       "      <th>6</th>\n",
       "      <td>Connecticut</td>\n",
       "      <td>2280.0</td>\n",
       "      <td>3571520</td>\n",
       "      <td>3976.0</td>\n",
       "      <td>0.001113</td>\n",
       "    </tr>\n",
       "    <tr>\n",
       "      <th>7</th>\n",
       "      <td>Delaware</td>\n",
       "      <td>708.0</td>\n",
       "      <td>965479</td>\n",
       "      <td>1082.0</td>\n",
       "      <td>0.001121</td>\n",
       "    </tr>\n",
       "    <tr>\n",
       "      <th>8</th>\n",
       "      <td>District of Columbia</td>\n",
       "      <td>3770.0</td>\n",
       "      <td>701547</td>\n",
       "      <td>6904.0</td>\n",
       "      <td>0.009841</td>\n",
       "    </tr>\n",
       "    <tr>\n",
       "      <th>9</th>\n",
       "      <td>Florida</td>\n",
       "      <td>21443.0</td>\n",
       "      <td>21244317</td>\n",
       "      <td>31030.0</td>\n",
       "      <td>0.001461</td>\n",
       "    </tr>\n",
       "  </tbody>\n",
       "</table>\n",
       "</div>"
      ],
      "text/plain": [
       "                  state  individuals  state_pop     total  p_homelessness\n",
       "0               Alabama       2570.0    4887681    3434.0        0.000703\n",
       "1                Alaska       1434.0     735139    2016.0        0.002742\n",
       "2               Arizona       7259.0    7158024    9865.0        0.001378\n",
       "3              Arkansas       2280.0    3009733    2712.0        0.000901\n",
       "4            California     109008.0   39461588  129972.0        0.003294\n",
       "5              Colorado       7607.0    5691287   10857.0        0.001908\n",
       "6           Connecticut       2280.0    3571520    3976.0        0.001113\n",
       "7              Delaware        708.0     965479    1082.0        0.001121\n",
       "8  District of Columbia       3770.0     701547    6904.0        0.009841\n",
       "9               Florida      21443.0   21244317   31030.0        0.001461"
      ]
     },
     "execution_count": 15,
     "metadata": {},
     "output_type": "execute_result"
    }
   ],
   "source": [
    "homelessness[['state', 'individuals', 'state_pop', 'total', 'p_homelessness']].head(10)"
   ]
  },
  {
   "cell_type": "markdown",
   "id": "6bf7257a",
   "metadata": {},
   "source": [
    "## Practica - Combo ataque\n",
    "hasta ahora se an visto los cuatro tipos mas comunes de transformacion de DataFrame, `ordenar`, `filtrar`, `subconjuntos` ,`subconjuntar  filas `y `agregar columnas`.\n",
    "en un analicis de la vida real puedes mesclar y convinar estas cuatro manipulacions para responder a multiples preguntas. \n",
    "\n",
    "En este ejercicio reponderas la pregunta:\n",
    "`¿Que estado tiene el mayor numero de personas sin hogar por cada 10000?` Conbina las nuevas a bilidades de pandas para averiguarlo\n",
    "\n",
    "- Añade una nueva columna indiv_per_10k que contenga el numero de personas sin hojar por cada 10,000 personas en cado estado , utilizando state_pop para la poblacion del estado  \n",
    "- Subconjunta las filas en las que indiv_per_10k sean superior a 20 , asignandolas a high_homelessnss \n",
    "- ordena  high_homelessnss en orden decendente indiv_per_10k asignado a high_homelessnss, selecionando la columna state e indiv_per_10k de high_homelessnss y guardandolo como resul y visualizar a resul\n"
   ]
  },
  {
   "cell_type": "code",
   "execution_count": 17,
   "id": "1a0225ac",
   "metadata": {},
   "outputs": [
    {
     "data": {
      "text/html": [
       "<div>\n",
       "<style scoped>\n",
       "    .dataframe tbody tr th:only-of-type {\n",
       "        vertical-align: middle;\n",
       "    }\n",
       "\n",
       "    .dataframe tbody tr th {\n",
       "        vertical-align: top;\n",
       "    }\n",
       "\n",
       "    .dataframe thead th {\n",
       "        text-align: right;\n",
       "    }\n",
       "</style>\n",
       "<table border=\"1\" class=\"dataframe\">\n",
       "  <thead>\n",
       "    <tr style=\"text-align: right;\">\n",
       "      <th></th>\n",
       "      <th>region</th>\n",
       "      <th>state</th>\n",
       "      <th>individuals</th>\n",
       "      <th>family_members</th>\n",
       "      <th>state_pop</th>\n",
       "      <th>total</th>\n",
       "      <th>p_homelessness</th>\n",
       "      <th>indiv_per_10k</th>\n",
       "    </tr>\n",
       "  </thead>\n",
       "  <tbody>\n",
       "    <tr>\n",
       "      <th>8</th>\n",
       "      <td>South Atlantic</td>\n",
       "      <td>District of Columbia</td>\n",
       "      <td>3770.0</td>\n",
       "      <td>3134.0</td>\n",
       "      <td>701547</td>\n",
       "      <td>6904.0</td>\n",
       "      <td>0.009841</td>\n",
       "      <td>53.738381</td>\n",
       "    </tr>\n",
       "    <tr>\n",
       "      <th>11</th>\n",
       "      <td>Pacific</td>\n",
       "      <td>Hawaii</td>\n",
       "      <td>4131.0</td>\n",
       "      <td>2399.0</td>\n",
       "      <td>1420593</td>\n",
       "      <td>6530.0</td>\n",
       "      <td>0.004597</td>\n",
       "      <td>29.079406</td>\n",
       "    </tr>\n",
       "    <tr>\n",
       "      <th>4</th>\n",
       "      <td>Pacific</td>\n",
       "      <td>California</td>\n",
       "      <td>109008.0</td>\n",
       "      <td>20964.0</td>\n",
       "      <td>39461588</td>\n",
       "      <td>129972.0</td>\n",
       "      <td>0.003294</td>\n",
       "      <td>27.623825</td>\n",
       "    </tr>\n",
       "    <tr>\n",
       "      <th>37</th>\n",
       "      <td>Pacific</td>\n",
       "      <td>Oregon</td>\n",
       "      <td>11139.0</td>\n",
       "      <td>3337.0</td>\n",
       "      <td>4181886</td>\n",
       "      <td>14476.0</td>\n",
       "      <td>0.003462</td>\n",
       "      <td>26.636307</td>\n",
       "    </tr>\n",
       "    <tr>\n",
       "      <th>28</th>\n",
       "      <td>Mountain</td>\n",
       "      <td>Nevada</td>\n",
       "      <td>7058.0</td>\n",
       "      <td>486.0</td>\n",
       "      <td>3027341</td>\n",
       "      <td>7544.0</td>\n",
       "      <td>0.002492</td>\n",
       "      <td>23.314189</td>\n",
       "    </tr>\n",
       "    <tr>\n",
       "      <th>47</th>\n",
       "      <td>Pacific</td>\n",
       "      <td>Washington</td>\n",
       "      <td>16424.0</td>\n",
       "      <td>5880.0</td>\n",
       "      <td>7523869</td>\n",
       "      <td>22304.0</td>\n",
       "      <td>0.002964</td>\n",
       "      <td>21.829195</td>\n",
       "    </tr>\n",
       "    <tr>\n",
       "      <th>32</th>\n",
       "      <td>Mid-Atlantic</td>\n",
       "      <td>New York</td>\n",
       "      <td>39827.0</td>\n",
       "      <td>52070.0</td>\n",
       "      <td>19530351</td>\n",
       "      <td>91897.0</td>\n",
       "      <td>0.004705</td>\n",
       "      <td>20.392363</td>\n",
       "    </tr>\n",
       "  </tbody>\n",
       "</table>\n",
       "</div>"
      ],
      "text/plain": [
       "            region                 state  individuals  family_members  \\\n",
       "8   South Atlantic  District of Columbia       3770.0          3134.0   \n",
       "11         Pacific                Hawaii       4131.0          2399.0   \n",
       "4          Pacific            California     109008.0         20964.0   \n",
       "37         Pacific                Oregon      11139.0          3337.0   \n",
       "28        Mountain                Nevada       7058.0           486.0   \n",
       "47         Pacific            Washington      16424.0          5880.0   \n",
       "32    Mid-Atlantic              New York      39827.0         52070.0   \n",
       "\n",
       "    state_pop     total  p_homelessness  indiv_per_10k  \n",
       "8      701547    6904.0        0.009841      53.738381  \n",
       "11    1420593    6530.0        0.004597      29.079406  \n",
       "4    39461588  129972.0        0.003294      27.623825  \n",
       "37    4181886   14476.0        0.003462      26.636307  \n",
       "28    3027341    7544.0        0.002492      23.314189  \n",
       "47    7523869   22304.0        0.002964      21.829195  \n",
       "32   19530351   91897.0        0.004705      20.392363  "
      ]
     },
     "execution_count": 17,
     "metadata": {},
     "output_type": "execute_result"
    }
   ],
   "source": [
    "# Crear la columna indiv_per_10k\n",
    "homelessness['indiv_per_10k'] =  10000 * homelessness['individuals'] / homelessness['state_pop'] \n",
    "\n",
    "# subconjuntar las filas en las que indiv_per_10k sean superior a 20\n",
    "high_homelessness = homelessness[homelessness['indiv_per_10k'] > 20]\n",
    "\n",
    "# Ordenar high_homelessness por indiv_per_10k \n",
    "result = high_homelessness.sort_values('indiv_per_10k', ascending=False)\n",
    "\n",
    "# Visualizar el resultado\n",
    "result\n",
    "\n"
   ]
  },
  {
   "cell_type": "markdown",
   "id": "59a685c9",
   "metadata": {},
   "source": [
    "El Distrito of columbia tiene el mayor de individuos sin hohar - Casi 54 por cada 10 abitantes \n"
   ]
  }
 ],
 "metadata": {
  "kernelspec": {
   "display_name": "MiEntornoEVND",
   "language": "python",
   "name": "python3"
  },
  "language_info": {
   "codemirror_mode": {
    "name": "ipython",
    "version": 3
   },
   "file_extension": ".py",
   "mimetype": "text/x-python",
   "name": "python",
   "nbconvert_exporter": "python",
   "pygments_lexer": "ipython3",
   "version": "3.6.13"
  }
 },
 "nbformat": 4,
 "nbformat_minor": 5
}
