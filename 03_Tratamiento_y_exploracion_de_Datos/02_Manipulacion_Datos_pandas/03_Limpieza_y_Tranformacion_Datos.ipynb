{
 "cells": [
  {
   "cell_type": "markdown",
   "id": "0ef8680c",
   "metadata": {},
   "source": [
    "Limpieza y tranformacion de Tatos\n"
   ]
  },
  {
   "cell_type": "code",
   "execution_count": 1,
   "id": "648422b7",
   "metadata": {},
   "outputs": [],
   "source": [
    "# importe de librairies\n",
    "import pandas as pd\n",
    "import numpy as np\n",
    "import matplotlib.pyplot as plt"
   ]
  },
  {
   "cell_type": "code",
   "execution_count": 2,
   "id": "04b3bec0",
   "metadata": {},
   "outputs": [],
   "source": [
    "salaries = pd.read_csv('datasets/linkedin-jobs-usa.csv')"
   ]
  },
  {
   "cell_type": "code",
   "execution_count": 3,
   "id": "4dae474a",
   "metadata": {},
   "outputs": [
    {
     "name": "stdout",
     "output_type": "stream",
     "text": [
      "<class 'pandas.core.frame.DataFrame'>\n",
      "RangeIndex: 2845 entries, 0 to 2844\n",
      "Data columns (total 9 columns):\n",
      " #   Column         Non-Null Count  Dtype \n",
      "---  ------         --------------  ----- \n",
      " 0   title          2845 non-null   object\n",
      " 1   company        2845 non-null   object\n",
      " 2   description    2845 non-null   object\n",
      " 3   onsite_remote  2845 non-null   object\n",
      " 4   salary         929 non-null    object\n",
      " 5   location       2845 non-null   object\n",
      " 6   criteria       2845 non-null   object\n",
      " 7   posted_date    2845 non-null   object\n",
      " 8   link           2845 non-null   object\n",
      "dtypes: object(9)\n",
      "memory usage: 200.2+ KB\n"
     ]
    }
   ],
   "source": [
    "salaries.info()"
   ]
  },
  {
   "cell_type": "markdown",
   "id": "ba558f4c",
   "metadata": {},
   "source": [
    "---\n",
    "## Tratamiento de duplicados"
   ]
  },
  {
   "cell_type": "code",
   "execution_count": null,
   "id": "0912f873",
   "metadata": {},
   "outputs": [],
   "source": [
    "salaries.drop_duplicates() #Este es para eliminar todos los duplicados"
   ]
  },
  {
   "cell_type": "code",
   "execution_count": 4,
   "id": "cb849b27",
   "metadata": {},
   "outputs": [],
   "source": [
    "salaries_limpieza = salaries.copy()"
   ]
  },
  {
   "cell_type": "code",
   "execution_count": 5,
   "id": "7f3752d4",
   "metadata": {},
   "outputs": [
    {
     "data": {
      "text/plain": [
       "0       False\n",
       "1       False\n",
       "2       False\n",
       "3       False\n",
       "4       False\n",
       "        ...  \n",
       "2840    False\n",
       "2841    False\n",
       "2842    False\n",
       "2843    False\n",
       "2844    False\n",
       "Length: 2845, dtype: bool"
      ]
     },
     "execution_count": 5,
     "metadata": {},
     "output_type": "execute_result"
    }
   ],
   "source": [
    "salaries_limpieza.duplicated()"
   ]
  },
  {
   "cell_type": "code",
   "execution_count": 7,
   "id": "cfc554fd",
   "metadata": {},
   "outputs": [
    {
     "data": {
      "text/plain": [
       "0"
      ]
     },
     "execution_count": 7,
     "metadata": {},
     "output_type": "execute_result"
    }
   ],
   "source": [
    "salaries_limpieza.duplicated().sum()"
   ]
  },
  {
   "cell_type": "code",
   "execution_count": 9,
   "id": "e4a1f1c8",
   "metadata": {},
   "outputs": [
    {
     "data": {
      "text/html": [
       "<div>\n",
       "<style scoped>\n",
       "    .dataframe tbody tr th:only-of-type {\n",
       "        vertical-align: middle;\n",
       "    }\n",
       "\n",
       "    .dataframe tbody tr th {\n",
       "        vertical-align: top;\n",
       "    }\n",
       "\n",
       "    .dataframe thead th {\n",
       "        text-align: right;\n",
       "    }\n",
       "</style>\n",
       "<table border=\"1\" class=\"dataframe\">\n",
       "  <thead>\n",
       "    <tr style=\"text-align: right;\">\n",
       "      <th></th>\n",
       "      <th>title</th>\n",
       "      <th>company</th>\n",
       "      <th>description</th>\n",
       "      <th>onsite_remote</th>\n",
       "      <th>salary</th>\n",
       "      <th>location</th>\n",
       "      <th>criteria</th>\n",
       "      <th>posted_date</th>\n",
       "      <th>link</th>\n",
       "    </tr>\n",
       "  </thead>\n",
       "  <tbody>\n",
       "  </tbody>\n",
       "</table>\n",
       "</div>"
      ],
      "text/plain": [
       "Empty DataFrame\n",
       "Columns: [title, company, description, onsite_remote, salary, location, criteria, posted_date, link]\n",
       "Index: []"
      ]
     },
     "execution_count": 9,
     "metadata": {},
     "output_type": "execute_result"
    }
   ],
   "source": [
    "salaries_limpieza[salaries_limpieza.duplicated()]"
   ]
  },
  {
   "cell_type": "code",
   "execution_count": 10,
   "id": "e205497e",
   "metadata": {},
   "outputs": [
    {
     "data": {
      "text/html": [
       "<div>\n",
       "<style scoped>\n",
       "    .dataframe tbody tr th:only-of-type {\n",
       "        vertical-align: middle;\n",
       "    }\n",
       "\n",
       "    .dataframe tbody tr th {\n",
       "        vertical-align: top;\n",
       "    }\n",
       "\n",
       "    .dataframe thead th {\n",
       "        text-align: right;\n",
       "    }\n",
       "</style>\n",
       "<table border=\"1\" class=\"dataframe\">\n",
       "  <thead>\n",
       "    <tr style=\"text-align: right;\">\n",
       "      <th></th>\n",
       "      <th>title</th>\n",
       "      <th>company</th>\n",
       "      <th>description</th>\n",
       "      <th>onsite_remote</th>\n",
       "      <th>salary</th>\n",
       "      <th>location</th>\n",
       "      <th>criteria</th>\n",
       "      <th>posted_date</th>\n",
       "      <th>link</th>\n",
       "    </tr>\n",
       "  </thead>\n",
       "  <tbody>\n",
       "    <tr>\n",
       "      <th>0</th>\n",
       "      <td>Data Analyst - Recent Graduate</td>\n",
       "      <td>PayPal</td>\n",
       "      <td>At PayPal (NASDAQ: PYPL), we believe that ever...</td>\n",
       "      <td>onsite</td>\n",
       "      <td>NaN</td>\n",
       "      <td>Buffalo-Niagara Falls Area</td>\n",
       "      <td>[{'Seniority level': 'Not Applicable'}, {'Empl...</td>\n",
       "      <td>2022-11-22</td>\n",
       "      <td>https://www.linkedin.com/jobs/view/data-analys...</td>\n",
       "    </tr>\n",
       "    <tr>\n",
       "      <th>1</th>\n",
       "      <td>Data Analyst - Recent Graduate</td>\n",
       "      <td>PayPal</td>\n",
       "      <td>At PayPal (NASDAQ: PYPL), we believe that ever...</td>\n",
       "      <td>onsite</td>\n",
       "      <td>NaN</td>\n",
       "      <td>San Jose, CA</td>\n",
       "      <td>[{'Seniority level': 'Not Applicable'}, {'Empl...</td>\n",
       "      <td>2022-11-22</td>\n",
       "      <td>https://www.linkedin.com/jobs/view/data-analys...</td>\n",
       "    </tr>\n",
       "    <tr>\n",
       "      <th>2</th>\n",
       "      <td>Data Analyst</td>\n",
       "      <td>PayPal</td>\n",
       "      <td>At PayPal (NASDAQ: PYPL), we believe that ever...</td>\n",
       "      <td>onsite</td>\n",
       "      <td>NaN</td>\n",
       "      <td>Texas, United States</td>\n",
       "      <td>[{'Seniority level': 'Not Applicable'}, {'Empl...</td>\n",
       "      <td>2022-11-17</td>\n",
       "      <td>https://www.linkedin.com/jobs/view/data-analys...</td>\n",
       "    </tr>\n",
       "    <tr>\n",
       "      <th>3</th>\n",
       "      <td>Data Analyst</td>\n",
       "      <td>PayPal</td>\n",
       "      <td>At PayPal (NASDAQ: PYPL), we believe that ever...</td>\n",
       "      <td>onsite</td>\n",
       "      <td>NaN</td>\n",
       "      <td>Illinois, United States</td>\n",
       "      <td>[{'Seniority level': 'Not Applicable'}, {'Empl...</td>\n",
       "      <td>2022-11-17</td>\n",
       "      <td>https://www.linkedin.com/jobs/view/data-analys...</td>\n",
       "    </tr>\n",
       "    <tr>\n",
       "      <th>4</th>\n",
       "      <td>Entry-Level Data Analyst</td>\n",
       "      <td>The Federal Savings Bank</td>\n",
       "      <td>The Federal Savings Bank, a national bank and ...</td>\n",
       "      <td>onsite</td>\n",
       "      <td>NaN</td>\n",
       "      <td>Chicago, IL</td>\n",
       "      <td>[{'Seniority level': 'Entry level'}, {'Employm...</td>\n",
       "      <td>2022-11-17</td>\n",
       "      <td>https://www.linkedin.com/jobs/view/entry-level...</td>\n",
       "    </tr>\n",
       "    <tr>\n",
       "      <th>...</th>\n",
       "      <td>...</td>\n",
       "      <td>...</td>\n",
       "      <td>...</td>\n",
       "      <td>...</td>\n",
       "      <td>...</td>\n",
       "      <td>...</td>\n",
       "      <td>...</td>\n",
       "      <td>...</td>\n",
       "      <td>...</td>\n",
       "    </tr>\n",
       "    <tr>\n",
       "      <th>2840</th>\n",
       "      <td>Junior Data Analyst</td>\n",
       "      <td>Iris Software Inc.</td>\n",
       "      <td>Iris's client, one of the world's largest fina...</td>\n",
       "      <td>hybrid</td>\n",
       "      <td>NaN</td>\n",
       "      <td>Texas, United States</td>\n",
       "      <td>[{'Seniority level': 'Mid-Senior level'}, {'Em...</td>\n",
       "      <td>2022-10-21</td>\n",
       "      <td>https://www.linkedin.com/jobs/view/junior-data...</td>\n",
       "    </tr>\n",
       "    <tr>\n",
       "      <th>2841</th>\n",
       "      <td>Data Analyst (SQL)</td>\n",
       "      <td>Marwood Group</td>\n",
       "      <td>The Marwood Group (Marwood) is a leading healt...</td>\n",
       "      <td>hybrid</td>\n",
       "      <td>$75,000.00\\r\\n            -\\r\\n            $95...</td>\n",
       "      <td>New York City Metropolitan Area</td>\n",
       "      <td>[{'Seniority level': 'Mid-Senior level'}, {'Em...</td>\n",
       "      <td>2022-10-26</td>\n",
       "      <td>https://www.linkedin.com/jobs/view/data-analys...</td>\n",
       "    </tr>\n",
       "    <tr>\n",
       "      <th>2842</th>\n",
       "      <td>Data Analyst</td>\n",
       "      <td>SmartSense by Digi</td>\n",
       "      <td>Join a high-performing, tight-knit team at a f...</td>\n",
       "      <td>hybrid</td>\n",
       "      <td>NaN</td>\n",
       "      <td>Mishawaka, IN</td>\n",
       "      <td>[{'Seniority level': 'Associate'}, {'Employmen...</td>\n",
       "      <td>2022-11-17</td>\n",
       "      <td>https://www.linkedin.com/jobs/view/data-analys...</td>\n",
       "    </tr>\n",
       "    <tr>\n",
       "      <th>2843</th>\n",
       "      <td>Data Analyst</td>\n",
       "      <td>Synergy Search</td>\n",
       "      <td>Nashville (Berry Hill) based company looking t...</td>\n",
       "      <td>hybrid</td>\n",
       "      <td>$85,000.00\\r\\n            -\\r\\n            $95...</td>\n",
       "      <td>Nashville Metropolitan Area</td>\n",
       "      <td>[{'Seniority level': 'Not Applicable'}, {'Empl...</td>\n",
       "      <td>2022-11-14</td>\n",
       "      <td>https://www.linkedin.com/jobs/view/data-analys...</td>\n",
       "    </tr>\n",
       "    <tr>\n",
       "      <th>2844</th>\n",
       "      <td>Data Analyst</td>\n",
       "      <td>Insight Global</td>\n",
       "      <td>Overview - Minimum 5 years in a quantitative d...</td>\n",
       "      <td>hybrid</td>\n",
       "      <td>$130,000.00\\r\\n            -\\r\\n            $1...</td>\n",
       "      <td>Burbank, CA</td>\n",
       "      <td>[{'Seniority level': 'Mid-Senior level'}, {'Em...</td>\n",
       "      <td>2022-11-14</td>\n",
       "      <td>https://www.linkedin.com/jobs/view/data-analys...</td>\n",
       "    </tr>\n",
       "  </tbody>\n",
       "</table>\n",
       "<p>2845 rows × 9 columns</p>\n",
       "</div>"
      ],
      "text/plain": [
       "                               title                   company  \\\n",
       "0     Data Analyst - Recent Graduate                    PayPal   \n",
       "1     Data Analyst - Recent Graduate                    PayPal   \n",
       "2                       Data Analyst                    PayPal   \n",
       "3                       Data Analyst                    PayPal   \n",
       "4           Entry-Level Data Analyst  The Federal Savings Bank   \n",
       "...                              ...                       ...   \n",
       "2840             Junior Data Analyst        Iris Software Inc.   \n",
       "2841              Data Analyst (SQL)             Marwood Group   \n",
       "2842                    Data Analyst        SmartSense by Digi   \n",
       "2843                    Data Analyst            Synergy Search   \n",
       "2844                    Data Analyst            Insight Global   \n",
       "\n",
       "                                            description onsite_remote  \\\n",
       "0     At PayPal (NASDAQ: PYPL), we believe that ever...        onsite   \n",
       "1     At PayPal (NASDAQ: PYPL), we believe that ever...        onsite   \n",
       "2     At PayPal (NASDAQ: PYPL), we believe that ever...        onsite   \n",
       "3     At PayPal (NASDAQ: PYPL), we believe that ever...        onsite   \n",
       "4     The Federal Savings Bank, a national bank and ...        onsite   \n",
       "...                                                 ...           ...   \n",
       "2840  Iris's client, one of the world's largest fina...        hybrid   \n",
       "2841  The Marwood Group (Marwood) is a leading healt...        hybrid   \n",
       "2842  Join a high-performing, tight-knit team at a f...        hybrid   \n",
       "2843  Nashville (Berry Hill) based company looking t...        hybrid   \n",
       "2844  Overview - Minimum 5 years in a quantitative d...        hybrid   \n",
       "\n",
       "                                                 salary  \\\n",
       "0                                                   NaN   \n",
       "1                                                   NaN   \n",
       "2                                                   NaN   \n",
       "3                                                   NaN   \n",
       "4                                                   NaN   \n",
       "...                                                 ...   \n",
       "2840                                                NaN   \n",
       "2841  $75,000.00\\r\\n            -\\r\\n            $95...   \n",
       "2842                                                NaN   \n",
       "2843  $85,000.00\\r\\n            -\\r\\n            $95...   \n",
       "2844  $130,000.00\\r\\n            -\\r\\n            $1...   \n",
       "\n",
       "                             location  \\\n",
       "0          Buffalo-Niagara Falls Area   \n",
       "1                        San Jose, CA   \n",
       "2                Texas, United States   \n",
       "3             Illinois, United States   \n",
       "4                         Chicago, IL   \n",
       "...                               ...   \n",
       "2840             Texas, United States   \n",
       "2841  New York City Metropolitan Area   \n",
       "2842                    Mishawaka, IN   \n",
       "2843      Nashville Metropolitan Area   \n",
       "2844                      Burbank, CA   \n",
       "\n",
       "                                               criteria posted_date  \\\n",
       "0     [{'Seniority level': 'Not Applicable'}, {'Empl...  2022-11-22   \n",
       "1     [{'Seniority level': 'Not Applicable'}, {'Empl...  2022-11-22   \n",
       "2     [{'Seniority level': 'Not Applicable'}, {'Empl...  2022-11-17   \n",
       "3     [{'Seniority level': 'Not Applicable'}, {'Empl...  2022-11-17   \n",
       "4     [{'Seniority level': 'Entry level'}, {'Employm...  2022-11-17   \n",
       "...                                                 ...         ...   \n",
       "2840  [{'Seniority level': 'Mid-Senior level'}, {'Em...  2022-10-21   \n",
       "2841  [{'Seniority level': 'Mid-Senior level'}, {'Em...  2022-10-26   \n",
       "2842  [{'Seniority level': 'Associate'}, {'Employmen...  2022-11-17   \n",
       "2843  [{'Seniority level': 'Not Applicable'}, {'Empl...  2022-11-14   \n",
       "2844  [{'Seniority level': 'Mid-Senior level'}, {'Em...  2022-11-14   \n",
       "\n",
       "                                                   link  \n",
       "0     https://www.linkedin.com/jobs/view/data-analys...  \n",
       "1     https://www.linkedin.com/jobs/view/data-analys...  \n",
       "2     https://www.linkedin.com/jobs/view/data-analys...  \n",
       "3     https://www.linkedin.com/jobs/view/data-analys...  \n",
       "4     https://www.linkedin.com/jobs/view/entry-level...  \n",
       "...                                                 ...  \n",
       "2840  https://www.linkedin.com/jobs/view/junior-data...  \n",
       "2841  https://www.linkedin.com/jobs/view/data-analys...  \n",
       "2842  https://www.linkedin.com/jobs/view/data-analys...  \n",
       "2843  https://www.linkedin.com/jobs/view/data-analys...  \n",
       "2844  https://www.linkedin.com/jobs/view/data-analys...  \n",
       "\n",
       "[2845 rows x 9 columns]"
      ]
     },
     "execution_count": 10,
     "metadata": {},
     "output_type": "execute_result"
    }
   ],
   "source": [
    "salaries_limpieza.drop_duplicates()"
   ]
  },
  {
   "cell_type": "markdown",
   "id": "96f6f6a5",
   "metadata": {},
   "source": [
    "---\n",
    "## Tratamiento de valores nulos NaN\n",
    "-   Visualizar los valores nulos \n"
   ]
  },
  {
   "cell_type": "code",
   "execution_count": 12,
   "id": "da485881",
   "metadata": {},
   "outputs": [
    {
     "data": {
      "text/html": [
       "<div>\n",
       "<style scoped>\n",
       "    .dataframe tbody tr th:only-of-type {\n",
       "        vertical-align: middle;\n",
       "    }\n",
       "\n",
       "    .dataframe tbody tr th {\n",
       "        vertical-align: top;\n",
       "    }\n",
       "\n",
       "    .dataframe thead th {\n",
       "        text-align: right;\n",
       "    }\n",
       "</style>\n",
       "<table border=\"1\" class=\"dataframe\">\n",
       "  <thead>\n",
       "    <tr style=\"text-align: right;\">\n",
       "      <th></th>\n",
       "      <th>title</th>\n",
       "      <th>company</th>\n",
       "      <th>description</th>\n",
       "      <th>onsite_remote</th>\n",
       "      <th>salary</th>\n",
       "      <th>location</th>\n",
       "      <th>criteria</th>\n",
       "      <th>posted_date</th>\n",
       "      <th>link</th>\n",
       "    </tr>\n",
       "  </thead>\n",
       "  <tbody>\n",
       "    <tr>\n",
       "      <th>0</th>\n",
       "      <td>False</td>\n",
       "      <td>False</td>\n",
       "      <td>False</td>\n",
       "      <td>False</td>\n",
       "      <td>True</td>\n",
       "      <td>False</td>\n",
       "      <td>False</td>\n",
       "      <td>False</td>\n",
       "      <td>False</td>\n",
       "    </tr>\n",
       "    <tr>\n",
       "      <th>1</th>\n",
       "      <td>False</td>\n",
       "      <td>False</td>\n",
       "      <td>False</td>\n",
       "      <td>False</td>\n",
       "      <td>True</td>\n",
       "      <td>False</td>\n",
       "      <td>False</td>\n",
       "      <td>False</td>\n",
       "      <td>False</td>\n",
       "    </tr>\n",
       "    <tr>\n",
       "      <th>2</th>\n",
       "      <td>False</td>\n",
       "      <td>False</td>\n",
       "      <td>False</td>\n",
       "      <td>False</td>\n",
       "      <td>True</td>\n",
       "      <td>False</td>\n",
       "      <td>False</td>\n",
       "      <td>False</td>\n",
       "      <td>False</td>\n",
       "    </tr>\n",
       "    <tr>\n",
       "      <th>3</th>\n",
       "      <td>False</td>\n",
       "      <td>False</td>\n",
       "      <td>False</td>\n",
       "      <td>False</td>\n",
       "      <td>True</td>\n",
       "      <td>False</td>\n",
       "      <td>False</td>\n",
       "      <td>False</td>\n",
       "      <td>False</td>\n",
       "    </tr>\n",
       "    <tr>\n",
       "      <th>4</th>\n",
       "      <td>False</td>\n",
       "      <td>False</td>\n",
       "      <td>False</td>\n",
       "      <td>False</td>\n",
       "      <td>True</td>\n",
       "      <td>False</td>\n",
       "      <td>False</td>\n",
       "      <td>False</td>\n",
       "      <td>False</td>\n",
       "    </tr>\n",
       "    <tr>\n",
       "      <th>...</th>\n",
       "      <td>...</td>\n",
       "      <td>...</td>\n",
       "      <td>...</td>\n",
       "      <td>...</td>\n",
       "      <td>...</td>\n",
       "      <td>...</td>\n",
       "      <td>...</td>\n",
       "      <td>...</td>\n",
       "      <td>...</td>\n",
       "    </tr>\n",
       "    <tr>\n",
       "      <th>2840</th>\n",
       "      <td>False</td>\n",
       "      <td>False</td>\n",
       "      <td>False</td>\n",
       "      <td>False</td>\n",
       "      <td>True</td>\n",
       "      <td>False</td>\n",
       "      <td>False</td>\n",
       "      <td>False</td>\n",
       "      <td>False</td>\n",
       "    </tr>\n",
       "    <tr>\n",
       "      <th>2841</th>\n",
       "      <td>False</td>\n",
       "      <td>False</td>\n",
       "      <td>False</td>\n",
       "      <td>False</td>\n",
       "      <td>False</td>\n",
       "      <td>False</td>\n",
       "      <td>False</td>\n",
       "      <td>False</td>\n",
       "      <td>False</td>\n",
       "    </tr>\n",
       "    <tr>\n",
       "      <th>2842</th>\n",
       "      <td>False</td>\n",
       "      <td>False</td>\n",
       "      <td>False</td>\n",
       "      <td>False</td>\n",
       "      <td>True</td>\n",
       "      <td>False</td>\n",
       "      <td>False</td>\n",
       "      <td>False</td>\n",
       "      <td>False</td>\n",
       "    </tr>\n",
       "    <tr>\n",
       "      <th>2843</th>\n",
       "      <td>False</td>\n",
       "      <td>False</td>\n",
       "      <td>False</td>\n",
       "      <td>False</td>\n",
       "      <td>False</td>\n",
       "      <td>False</td>\n",
       "      <td>False</td>\n",
       "      <td>False</td>\n",
       "      <td>False</td>\n",
       "    </tr>\n",
       "    <tr>\n",
       "      <th>2844</th>\n",
       "      <td>False</td>\n",
       "      <td>False</td>\n",
       "      <td>False</td>\n",
       "      <td>False</td>\n",
       "      <td>False</td>\n",
       "      <td>False</td>\n",
       "      <td>False</td>\n",
       "      <td>False</td>\n",
       "      <td>False</td>\n",
       "    </tr>\n",
       "  </tbody>\n",
       "</table>\n",
       "<p>2845 rows × 9 columns</p>\n",
       "</div>"
      ],
      "text/plain": [
       "      title  company  description  onsite_remote  salary  location  criteria  \\\n",
       "0     False    False        False          False    True     False     False   \n",
       "1     False    False        False          False    True     False     False   \n",
       "2     False    False        False          False    True     False     False   \n",
       "3     False    False        False          False    True     False     False   \n",
       "4     False    False        False          False    True     False     False   \n",
       "...     ...      ...          ...            ...     ...       ...       ...   \n",
       "2840  False    False        False          False    True     False     False   \n",
       "2841  False    False        False          False   False     False     False   \n",
       "2842  False    False        False          False    True     False     False   \n",
       "2843  False    False        False          False   False     False     False   \n",
       "2844  False    False        False          False   False     False     False   \n",
       "\n",
       "      posted_date   link  \n",
       "0           False  False  \n",
       "1           False  False  \n",
       "2           False  False  \n",
       "3           False  False  \n",
       "4           False  False  \n",
       "...           ...    ...  \n",
       "2840        False  False  \n",
       "2841        False  False  \n",
       "2842        False  False  \n",
       "2843        False  False  \n",
       "2844        False  False  \n",
       "\n",
       "[2845 rows x 9 columns]"
      ]
     },
     "execution_count": 12,
     "metadata": {},
     "output_type": "execute_result"
    }
   ],
   "source": [
    "salaries_limpieza.isna()"
   ]
  },
  {
   "cell_type": "code",
   "execution_count": 13,
   "id": "df2a71cc",
   "metadata": {},
   "outputs": [
    {
     "name": "stdout",
     "output_type": "stream",
     "text": [
      "Valores NaN por columna:\n",
      "title               0\n",
      "company             0\n",
      "description         0\n",
      "onsite_remote       0\n",
      "salary           1916\n",
      "location            0\n",
      "criteria            0\n",
      "posted_date         0\n",
      "link                0\n",
      "dtype: int64\n"
     ]
    }
   ],
   "source": [
    "print(f'Valores NaN por columna:\\n{salaries_limpieza.isna().sum()}')"
   ]
  },
  {
   "cell_type": "code",
   "execution_count": 14,
   "id": "17b6a91f",
   "metadata": {},
   "outputs": [
    {
     "name": "stdout",
     "output_type": "stream",
     "text": [
      "<class 'pandas.core.frame.DataFrame'>\n",
      "Int64Index: 929 entries, 8 to 2844\n",
      "Data columns (total 9 columns):\n",
      " #   Column         Non-Null Count  Dtype \n",
      "---  ------         --------------  ----- \n",
      " 0   title          929 non-null    object\n",
      " 1   company        929 non-null    object\n",
      " 2   description    929 non-null    object\n",
      " 3   onsite_remote  929 non-null    object\n",
      " 4   salary         929 non-null    object\n",
      " 5   location       929 non-null    object\n",
      " 6   criteria       929 non-null    object\n",
      " 7   posted_date    929 non-null    object\n",
      " 8   link           929 non-null    object\n",
      "dtypes: object(9)\n",
      "memory usage: 72.6+ KB\n"
     ]
    }
   ],
   "source": [
    "df_sin_nulos = salaries.dropna() # Elimina todas las filas que tienen al menos un valor nulo\n",
    "df_sin_nulos.info() # Elimina todas las filas que tienen al menos un valor nulo en la columna especificada\n"
   ]
  },
  {
   "cell_type": "code",
   "execution_count": 18,
   "id": "234b44fd",
   "metadata": {},
   "outputs": [
    {
     "data": {
      "text/plain": [
       "(929, 9)"
      ]
     },
     "execution_count": 18,
     "metadata": {},
     "output_type": "execute_result"
    }
   ],
   "source": [
    "df_sin_nulos.shape\n"
   ]
  },
  {
   "cell_type": "code",
   "execution_count": 15,
   "id": "a9d7c424",
   "metadata": {},
   "outputs": [
    {
     "data": {
      "text/plain": [
       "title            0\n",
       "company          0\n",
       "description      0\n",
       "onsite_remote    0\n",
       "salary           0\n",
       "location         0\n",
       "criteria         0\n",
       "posted_date      0\n",
       "link             0\n",
       "dtype: int64"
      ]
     },
     "execution_count": 15,
     "metadata": {},
     "output_type": "execute_result"
    }
   ],
   "source": [
    "df_sin_nulos.isna().sum()"
   ]
  },
  {
   "cell_type": "code",
   "execution_count": 17,
   "id": "626e61c3",
   "metadata": {},
   "outputs": [
    {
     "data": {
      "text/plain": [
       "8     $100,000.00\\r\\n            -\\r\\n            $1...\n",
       "24    $50,000.00\\r\\n            -\\r\\n            $55...\n",
       "35    $100,000.00\\r\\n            -\\r\\n            $1...\n",
       "61    $100,000.00\\r\\n            -\\r\\n            $1...\n",
       "88    $100,000.00\\r\\n            -\\r\\n            $1...\n",
       "Name: salary, dtype: object"
      ]
     },
     "execution_count": 17,
     "metadata": {},
     "output_type": "execute_result"
    }
   ],
   "source": [
    "df_sin_nulos['salary'].head()"
   ]
  },
  {
   "cell_type": "code",
   "execution_count": null,
   "id": "f36cfe4d",
   "metadata": {},
   "outputs": [],
   "source": [
    "# Axis 0 es filas, axis 1 es columnas\n",
    "# Axis 1 es para eliminar columnas\n",
    "\n",
    "#   df_sin_nulos_columna = salaries.dropna(axis=0, how='any') # Elimina todas las filas que tienen al menos un valor nulo\n",
    "#   df_sin_nulos_columna = salaries.dropna(axis=0, how='all') # Elimina todas las filas que tienen todos los valores nulos\n",
    "#   df_sin_nulos_columna = salaries.dropna(axis=1, how='any') # Elimina todas las columnas que tienen al menos un valor nulo\n",
    "#   df_sin_nulos_columna = salaries.dropna(axis=1, how='all') # Elimina todas las columnas que tienen todos los valores nulos"
   ]
  },
  {
   "cell_type": "code",
   "execution_count": null,
   "id": "a30cdc11",
   "metadata": {},
   "outputs": [],
   "source": [
    "df_sin_nulos_columna = salaries.dropna(axis=1, how='any') # Elimina todas las columnas que tienen al menos un valor nulo"
   ]
  },
  {
   "cell_type": "markdown",
   "id": "dda314d5",
   "metadata": {},
   "source": [
    "---\n",
    "# Trasformacion de datos\n",
    "\n",
    "-   2da opcion `Remplazar NaNs por la media`"
   ]
  },
  {
   "cell_type": "code",
   "execution_count": 21,
   "id": "5bbbced6",
   "metadata": {},
   "outputs": [
    {
     "data": {
      "text/plain": [
       "8       $100,000.00\\r\\n            -\\r\\n            $1...\n",
       "24      $50,000.00\\r\\n            -\\r\\n            $55...\n",
       "35      $100,000.00\\r\\n            -\\r\\n            $1...\n",
       "61      $100,000.00\\r\\n            -\\r\\n            $1...\n",
       "88      $100,000.00\\r\\n            -\\r\\n            $1...\n",
       "                              ...                        \n",
       "2834        $30.00\\r\\n            -\\r\\n            $33.00\n",
       "2836    $120,000.00\\r\\n            -\\r\\n            $1...\n",
       "2841    $75,000.00\\r\\n            -\\r\\n            $95...\n",
       "2843    $85,000.00\\r\\n            -\\r\\n            $95...\n",
       "2844    $130,000.00\\r\\n            -\\r\\n            $1...\n",
       "Name: salary, Length: 929, dtype: object"
      ]
     },
     "execution_count": 21,
     "metadata": {},
     "output_type": "execute_result"
    }
   ],
   "source": [
    "df_sin_nulos['salary']"
   ]
  },
  {
   "cell_type": "code",
   "execution_count": 22,
   "id": "c2cf8dba",
   "metadata": {},
   "outputs": [
    {
     "name": "stderr",
     "output_type": "stream",
     "text": [
      "d:\\Archivos\\Archivos de Programas\\miniconda3\\envs\\MiEntornoEVND\\lib\\site-packages\\ipykernel_launcher.py:7: SettingWithCopyWarning: \n",
      "A value is trying to be set on a copy of a slice from a DataFrame.\n",
      "Try using .loc[row_indexer,col_indexer] = value instead\n",
      "\n",
      "See the caveats in the documentation: https://pandas.pydata.org/pandas-docs/stable/user_guide/indexing.html#returning-a-view-versus-a-copy\n",
      "  import sys\n"
     ]
    }
   ],
   "source": [
    "##  Este código toma una columna 'salary' que contiene valores de salario en formato de cadena, \n",
    "##  elimina cualquier caracter no numérico, extrae los dígitos y convierte la columna resultante en valores numéricos de tipo float. \n",
    "##   El resultado se almacena en una nueva columna llamada 'salary_numeric'. \n",
    "##  Esto es útil cuando la columna 'salary' inicial contiene caracteres no numéricos y se desea trabajar con los salarios como valores numéricos.\n",
    "\n",
    "\n",
    "df_sin_nulos['salary_numeric'] = df_sin_nulos['salary'].str.replace(r'\\D', '', regex=True).astype(float)\n",
    "\n",
    "##df_sin_nulos['salary_numeric'] = df_sin_nulos['salary'].replace('[^\\d.]', '', regex=True).str.extract('(\\d+)').astype(float)\n"
   ]
  }
 ],
 "metadata": {
  "kernelspec": {
   "display_name": "MiEntornoEVND",
   "language": "python",
   "name": "python3"
  },
  "language_info": {
   "codemirror_mode": {
    "name": "ipython",
    "version": 3
   },
   "file_extension": ".py",
   "mimetype": "text/x-python",
   "name": "python",
   "nbconvert_exporter": "python",
   "pygments_lexer": "ipython3",
   "version": "3.6.13"
  }
 },
 "nbformat": 4,
 "nbformat_minor": 5
}
