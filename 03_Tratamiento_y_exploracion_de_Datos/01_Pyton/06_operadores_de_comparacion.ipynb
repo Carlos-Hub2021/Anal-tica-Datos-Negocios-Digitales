{
 "cells": [
  {
   "cell_type": "markdown",
   "id": "e0a077b9",
   "metadata": {},
   "source": [
    "## Oeradores de comparccion \n",
    "\n",
    "### Objetivos\n",
    "    - Conocer el funcionamiento de los operadores de coparacion usando int float y string\n",
    "---\n",
    "\n",
    "### Desarrollo"
   ]
  },
  {
   "cell_type": "markdown",
   "id": "7d070b61",
   "metadata": {},
   "source": [
    "Asiganr valores algunas variables , para despues utilizarlas para realizar comparacion "
   ]
  },
  {
   "cell_type": "code",
   "execution_count": 1,
   "id": "00d5047f",
   "metadata": {},
   "outputs": [],
   "source": [
    "var_1 = 34\n",
    "var_2 = 56\n",
    "var_3 = 78\n",
    "var_4 = 90\n",
    "var_5 = \"OK\"\n",
    "var_6 = \"ERROR\"\n",
    "var_7 = True\n",
    "var_8 = False"
   ]
  },
  {
   "cell_type": "markdown",
   "id": "7a2b86c8",
   "metadata": {},
   "source": [
    "Ahora vamos a realizar unas comparaciones para ver como funcionan los operadores relacionales\n"
   ]
  },
  {
   "cell_type": "code",
   "execution_count": 4,
   "id": "c1f3cd60",
   "metadata": {},
   "outputs": [
    {
     "name": "stdout",
     "output_type": "stream",
     "text": [
      "el valor de var_1 es mayor que el de var_2\n"
     ]
    },
    {
     "data": {
      "text/plain": [
       "False"
      ]
     },
     "execution_count": 4,
     "metadata": {},
     "output_type": "execute_result"
    }
   ],
   "source": [
    "print(\"el valor de var_1 es mayor que el de var_2\")\n",
    "var_1 > var_2"
   ]
  },
  {
   "cell_type": "code",
   "execution_count": 5,
   "id": "4a215815",
   "metadata": {},
   "outputs": [
    {
     "name": "stdout",
     "output_type": "stream",
     "text": [
      "el valor de var_1 es menor que el de var_2\n"
     ]
    },
    {
     "data": {
      "text/plain": [
       "True"
      ]
     },
     "execution_count": 5,
     "metadata": {},
     "output_type": "execute_result"
    }
   ],
   "source": [
    "print(\"el valor de var_1 es menor que el de var_2\")\n",
    "var_1 < var_2"
   ]
  },
  {
   "cell_type": "code",
   "execution_count": 6,
   "id": "69d162ab",
   "metadata": {},
   "outputs": [
    {
     "name": "stdout",
     "output_type": "stream",
     "text": [
      "el valor de var_3 es menor el valor de var_4\n"
     ]
    },
    {
     "data": {
      "text/plain": [
       "True"
      ]
     },
     "execution_count": 6,
     "metadata": {},
     "output_type": "execute_result"
    }
   ],
   "source": [
    "print(\"el valor de var_3 es menor el valor de var_4\")\n",
    "var_3 < var_4\n"
   ]
  },
  {
   "cell_type": "code",
   "execution_count": 9,
   "id": "8e6b8c98",
   "metadata": {},
   "outputs": [
    {
     "name": "stdout",
     "output_type": "stream",
     "text": [
      "var_3 es menor o igual a var_4\n"
     ]
    },
    {
     "data": {
      "text/plain": [
       "True"
      ]
     },
     "execution_count": 9,
     "metadata": {},
     "output_type": "execute_result"
    }
   ],
   "source": [
    "print(\"var_3 es menor o igual a var_4\")\n",
    "var_3 <= var_4"
   ]
  },
  {
   "cell_type": "code",
   "execution_count": 10,
   "id": "9185b14f",
   "metadata": {},
   "outputs": [
    {
     "name": "stdout",
     "output_type": "stream",
     "text": [
      "var_5 es diferente de var_6\n"
     ]
    },
    {
     "data": {
      "text/plain": [
       "True"
      ]
     },
     "execution_count": 10,
     "metadata": {},
     "output_type": "execute_result"
    }
   ],
   "source": [
    "print(\"var_5 es diferente de var_6\")\n",
    "var_5 != var_6"
   ]
  },
  {
   "cell_type": "code",
   "execution_count": 11,
   "id": "1e9b1738",
   "metadata": {},
   "outputs": [
    {
     "name": "stdout",
     "output_type": "stream",
     "text": [
      "var_5 es == var_6\n"
     ]
    },
    {
     "data": {
      "text/plain": [
       "False"
      ]
     },
     "execution_count": 11,
     "metadata": {},
     "output_type": "execute_result"
    }
   ],
   "source": [
    "print(\"var_5 es == var_6\")\n",
    "var_5 == var_6"
   ]
  },
  {
   "cell_type": "code",
   "execution_count": 12,
   "id": "6ebeeb27",
   "metadata": {},
   "outputs": [
    {
     "name": "stdout",
     "output_type": "stream",
     "text": [
      "True es > False\n"
     ]
    },
    {
     "data": {
      "text/plain": [
       "True"
      ]
     },
     "execution_count": 12,
     "metadata": {},
     "output_type": "execute_result"
    }
   ],
   "source": [
    "print(\"True es > False\")\n",
    "True > False"
   ]
  },
  {
   "cell_type": "code",
   "execution_count": 13,
   "id": "234ce607",
   "metadata": {},
   "outputs": [
    {
     "name": "stdout",
     "output_type": "stream",
     "text": [
      " True es <   False\n"
     ]
    },
    {
     "data": {
      "text/plain": [
       "False"
      ]
     },
     "execution_count": 13,
     "metadata": {},
     "output_type": "execute_result"
    }
   ],
   "source": [
    "print(\" True es <   False\")\n",
    "True < False"
   ]
  }
 ],
 "metadata": {
  "kernelspec": {
   "display_name": "Python 3",
   "language": "python",
   "name": "python3"
  },
  "language_info": {
   "codemirror_mode": {
    "name": "ipython",
    "version": 3
   },
   "file_extension": ".py",
   "mimetype": "text/x-python",
   "name": "python",
   "nbconvert_exporter": "python",
   "pygments_lexer": "ipython3",
   "version": "3.7.9"
  }
 },
 "nbformat": 4,
 "nbformat_minor": 5
}
