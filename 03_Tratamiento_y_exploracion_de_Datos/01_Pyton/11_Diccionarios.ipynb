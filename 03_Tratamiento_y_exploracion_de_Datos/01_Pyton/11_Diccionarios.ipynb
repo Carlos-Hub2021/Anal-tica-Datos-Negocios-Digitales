{
 "cells": [
  {
   "cell_type": "markdown",
   "id": "434f0ceb",
   "metadata": {},
   "source": [
    "># Crear y accesas a los diccionarios "
   ]
  },
  {
   "cell_type": "markdown",
   "id": "242bc65a",
   "metadata": {},
   "source": [
    "- ## Objetivos\n",
    "    - aprender a crear diccionarios con pares llaves valor\n",
    "    - Aprender a accesar a los valores guardados el diccionario \n",
    "\n",
    "---\n",
    "\n",
    "## Desarrrollo:\n",
    ">  Diccionario se definen usando (`{}`)"
   ]
  },
  {
   "cell_type": "code",
   "execution_count": null,
   "id": "ea985212",
   "metadata": {},
   "outputs": [],
   "source": [
    "diccionario_1 = {} #diccionario 1 ya es un diccionaroio. solo que esta vacio , para incluir dentro de un diccionario que tenemos que agregar paras,  llave-valor dentro de las llaves ({}),. cada par lleva-valor con una (,):"
   ]
  },
  {
   "cell_type": "markdown",
   "id": "a4b9c3c2",
   "metadata": {},
   "source": [
    "diccionario_1 ya es un diccionaroio. solo que esta vacio , para incluir dentro de un diccionario que tenemos que agregar paras,  llave-valor dentro de las llaves ({}),. cada par lleva-valor con una (,):"
   ]
  },
  {
   "cell_type": "code",
   "execution_count": 5,
   "id": "98dc619f",
   "metadata": {},
   "outputs": [],
   "source": [
    "diccionario_2 = { \n",
    "    \"lave_1\": \"valor_1\",\n",
    "    \"lave_2\": \"valor_2\",\n",
    "    \"lave_3\": \"valor_3\",\n",
    "    \"lave_4\": \"valor_4\",\n",
    "    }\n",
    "\n"
   ]
  },
  {
   "cell_type": "markdown",
   "id": "aff58c72",
   "metadata": {},
   "source": [
    ">Nuestras llaves pueden ser tanto `stringc`, como `int` (pueden ser otras cosas, pero no es lo mas comun): "
   ]
  },
  {
   "cell_type": "code",
   "execution_count": 4,
   "id": "2b3a4321",
   "metadata": {},
   "outputs": [],
   "source": [
    "diccionario_3 = {\n",
    "    1: \"Uno\",\n",
    "    2: \"Dos\",\n",
    "    3: \"Tres\",\n",
    "    4: \"Cuatro\",\n",
    "    }\n",
    "\n"
   ]
  },
  {
   "cell_type": "markdown",
   "id": "7595d04e",
   "metadata": {},
   "source": [
    ">nuestros valores pueden ser cualquier tipo de dato que se conozca hasta el momento, incluso otros diccionarios"
   ]
  },
  {
   "cell_type": "code",
   "execution_count": 3,
   "id": "db8538b5",
   "metadata": {},
   "outputs": [],
   "source": [
    "diccionario_4 = {\n",
    "    'int': 123,\n",
    "    'float': 123.456,\n",
    "    'string': \"Hola, mundo!\",\n",
    "    'boolean': True,\n",
    "    'lista': [1, 2, 3,4],\n",
    "    \n",
    "    'diccionario': {\n",
    "        1: \"Uno\",\n",
    "        2: \"Dos\",\n",
    "    }\n",
    "}"
   ]
  },
  {
   "cell_type": "code",
   "execution_count": 10,
   "id": "6adeae32",
   "metadata": {},
   "outputs": [
    {
     "name": "stdout",
     "output_type": "stream",
     "text": [
      "123.456\n",
      "True\n",
      "[1, 2, 3, 4]\n",
      "3\n",
      "Dos\n"
     ]
    }
   ],
   "source": [
    "print(diccionario_4['float'])# Acceso a un valor por su llave\n",
    "print(diccionario_4['boolean'])# Acceso a un valor por su llave\n",
    "print(diccionario_4['lista'])# Acceso a una lista dentro de un diccionario\n",
    "print(diccionario_4['lista'][2])# Acceso a un valor dentro de un diccionario anidado \n",
    "print(diccionario_4['diccionario'][2])# Acceso a un valor dentro de un diccionario anidado"
   ]
  }
 ],
 "metadata": {
  "kernelspec": {
   "display_name": "Python 3",
   "language": "python",
   "name": "python3"
  },
  "language_info": {
   "codemirror_mode": {
    "name": "ipython",
    "version": 3
   },
   "file_extension": ".py",
   "mimetype": "text/x-python",
   "name": "python",
   "nbconvert_exporter": "python",
   "pygments_lexer": "ipython3",
   "version": "3.7.9"
  }
 },
 "nbformat": 4,
 "nbformat_minor": 5
}
