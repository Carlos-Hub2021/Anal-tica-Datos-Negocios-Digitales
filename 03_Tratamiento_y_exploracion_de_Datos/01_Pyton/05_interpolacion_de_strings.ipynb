{
 "cells": [
  {
   "cell_type": "markdown",
   "id": "26c87876",
   "metadata": {},
   "source": [
    "## interpolacion \n",
    "\n",
    "### Objetivos:\n",
    "    - Aprender a imprimir los Strings\n",
    "    - aprender a interpolar variables de strings\n",
    "\n",
    "---\n",
    "### Desarrollo"
   ]
  },
  {
   "cell_type": "markdown",
   "id": "464c9c4d",
   "metadata": {},
   "source": [
    "podemos hacer anotaciones en los outouts de codigo de esta manera"
   ]
  },
  {
   "cell_type": "code",
   "execution_count": 3,
   "id": "f9e2b487",
   "metadata": {},
   "outputs": [
    {
     "name": "stdout",
     "output_type": "stream",
     "text": [
      "suma de var_1 y var_2 es:  39.7\n"
     ]
    }
   ],
   "source": [
    "var_1 =15.3\n",
    "var_2 = 24.4\n",
    "\n",
    "print(\"suma de var_1 y var_2 es: \", var_1 + var_2)\n",
    "\n"
   ]
  },
  {
   "cell_type": "markdown",
   "id": "fc6af98e",
   "metadata": {},
   "source": [
    "pero a veces resulta neserario o deseable interpolar el valos de las variables  de strings para esto utilisamos las llamadas `f-strings`. el formato de una `f-strings` es el siguiente: \n",
    "`f\"Esto es texto {Esto_es_una_variable} esto es mas texto\"`\n",
    "\n",
    "Escribo una `f` antes de las comillas le indicamos a python que lo que pongas dentro de las llaves  (`{}`) sera codigo de python , En este caso una vbariable interna \n",
    "\n",
    "Ahora podemos haver lo siguiente"
   ]
  },
  {
   "cell_type": "code",
   "execution_count": 4,
   "id": "401fa070",
   "metadata": {},
   "outputs": [
    {
     "name": "stdout",
     "output_type": "stream",
     "text": [
      "suma de var_3 y var_4 es: 55.5\n"
     ]
    }
   ],
   "source": [
    "var_3 = 43\n",
    "var_4 = 12.5\n",
    "\n",
    "suma = var_3 + var_4\n",
    "\n",
    "print(f\"suma de var_3 y var_4 es: {suma}\")"
   ]
  },
  {
   "cell_type": "code",
   "execution_count": 5,
   "id": "f1d9a2cc",
   "metadata": {},
   "outputs": [
    {
     "name": "stdout",
     "output_type": "stream",
     "text": [
      "suma de 34.0 y 3.0 es: 37.0\n",
      "el nombre del programa es: El macho\n"
     ]
    }
   ],
   "source": [
    "nombre_Programa = input(\"ingrese el nombre del programa: \")\n",
    "var_3  = float(input(\"ingrese un numero: \"))\n",
    "var_4 = float(input(\"ingrese otro numero: \")) \n",
    "\n",
    "suma = var_3 + var_4\n",
    "print(f\"suma de {var_3} y {var_4} es: {suma}\")\n",
    "print(f\"el nombre del programa es: {nombre_Programa}\")"
   ]
  },
  {
   "cell_type": "markdown",
   "id": "fcb928d9",
   "metadata": {},
   "source": [
    "usando la funcion `def`"
   ]
  },
  {
   "cell_type": "code",
   "execution_count": 13,
   "id": "492fefec",
   "metadata": {},
   "outputs": [],
   "source": [
    "def sumar(num1, num2):\n",
    "    return num1 + num2"
   ]
  },
  {
   "cell_type": "code",
   "execution_count": 11,
   "id": "756cb434",
   "metadata": {},
   "outputs": [],
   "source": [
    "def SOLICITAR_NUMERO():\n",
    "    return float(input(\"ingrese un numero: \"))"
   ]
  },
  {
   "cell_type": "code",
   "execution_count": 15,
   "id": "4dbf1a96",
   "metadata": {},
   "outputs": [
    {
     "name": "stdout",
     "output_type": "stream",
     "text": [
      "6.0\n"
     ]
    }
   ],
   "source": [
    "\n",
    "var_3 = SOLICITAR_NUMERO()\n",
    "var_4 = SOLICITAR_NUMERO()\n",
    "\n",
    "suma = sumar  (var_3, var_4)\n",
    "print(suma)"
   ]
  },
  {
   "cell_type": "markdown",
   "id": "01465aa8",
   "metadata": {},
   "source": [
    "---"
   ]
  },
  {
   "cell_type": "code",
   "execution_count": 16,
   "id": "aca50a9e",
   "metadata": {},
   "outputs": [],
   "source": [
    "xx = 10"
   ]
  },
  {
   "cell_type": "code",
   "execution_count": 17,
   "id": "2debe87b",
   "metadata": {},
   "outputs": [
    {
     "name": "stdout",
     "output_type": "stream",
     "text": [
      "10\n"
     ]
    }
   ],
   "source": [
    "print(xx)"
   ]
  }
 ],
 "metadata": {
  "kernelspec": {
   "display_name": "Python 3",
   "language": "python",
   "name": "python3"
  },
  "language_info": {
   "codemirror_mode": {
    "name": "ipython",
    "version": 3
   },
   "file_extension": ".py",
   "mimetype": "text/x-python",
   "name": "python",
   "nbconvert_exporter": "python",
   "pygments_lexer": "ipython3",
   "version": "3.7.9"
  }
 },
 "nbformat": 4,
 "nbformat_minor": 5
}
