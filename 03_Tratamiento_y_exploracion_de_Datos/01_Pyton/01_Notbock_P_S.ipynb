{
 "cells": [
  {
   "cell_type": "markdown",
   "id": "6248f902",
   "metadata": {},
   "source": [
    "# Ejemplo 1 : esto es un Notbook de practica\n",
    "--- \n",
    "### 1. Objetivos:\n",
    "    - Como funciona un jupyter Notebook\n",
    "### 2. Requisitos: \n",
    "    - Jupyter Notebook instalado\n",
    "\n",
    "---\n"
   ]
  },
  {
   "cell_type": "markdown",
   "id": "6df3da8e",
   "metadata": {},
   "source": [
    "En JN tenemos `modo comando` y `modo edicion` .\n",
    "\n",
    "- El `modo edicion` sirve para editar celdas\n",
    "- El `modo comando` sirve para usar comandos en el JS"
   ]
  },
  {
   "cell_type": "markdown",
   "id": "8b118650",
   "metadata": {},
   "source": [
    "Esto es una celda `Markdown`"
   ]
  },
  {
   "cell_type": "code",
   "execution_count": 2,
   "id": "ba0ba622",
   "metadata": {},
   "outputs": [],
   "source": [
    "# Esto es una celda de code \n",
    "# y yo soy un comentario"
   ]
  },
  {
   "cell_type": "markdown",
   "id": "6c9b0671",
   "metadata": {},
   "source": [
    "Escribamos algo de code para recordar recordar el pasado"
   ]
  },
  {
   "cell_type": "code",
   "execution_count": 3,
   "id": "450e112c",
   "metadata": {},
   "outputs": [
    {
     "data": {
      "text/plain": [
       "9"
      ]
     },
     "execution_count": 3,
     "metadata": {},
     "output_type": "execute_result"
    }
   ],
   "source": [
    "var_1 = 4\n",
    "var_2 = 5\n",
    "\n",
    "var_1 + var_2"
   ]
  },
  {
   "cell_type": "code",
   "execution_count": 4,
   "id": "21a348b3",
   "metadata": {},
   "outputs": [
    {
     "name": "stdout",
     "output_type": "stream",
     "text": [
      "4 5\n"
     ]
    }
   ],
   "source": [
    "print(var_1 , var_2) "
   ]
  },
  {
   "cell_type": "code",
   "execution_count": 6,
   "id": "be2217c7",
   "metadata": {},
   "outputs": [
    {
     "name": "stdout",
     "output_type": "stream",
     "text": [
      "4 , 5\n"
     ]
    }
   ],
   "source": [
    "print(str(var_1) + ' , '+ str(var_2) )"
   ]
  },
  {
   "cell_type": "code",
   "execution_count": 7,
   "id": "6c0e04f3",
   "metadata": {},
   "outputs": [
    {
     "data": {
      "text/plain": [
       "15"
      ]
     },
     "execution_count": 7,
     "metadata": {},
     "output_type": "execute_result"
    }
   ],
   "source": [
    "var_1 = 10\n",
    "var_1 + var_2"
   ]
  }
 ],
 "metadata": {
  "kernelspec": {
   "display_name": "Python 3",
   "language": "python",
   "name": "python3"
  },
  "language_info": {
   "codemirror_mode": {
    "name": "ipython",
    "version": 3
   },
   "file_extension": ".py",
   "mimetype": "text/x-python",
   "name": "python",
   "nbconvert_exporter": "python",
   "pygments_lexer": "ipython3",
   "version": "3.7.9"
  }
 },
 "nbformat": 4,
 "nbformat_minor": 5
}
