{
 "cells": [
  {
   "cell_type": "markdown",
   "id": "49ae78ea",
   "metadata": {},
   "source": [
    "## Estructuras de control\n",
    "\n",
    "### Objetivo\n",
    "    - conocer las estructuras de control como funcionan y paraque sirven \n",
    "---\n",
    "\n",
    "## Desarrollo"
   ]
  },
  {
   "cell_type": "markdown",
   "id": "2508ecec",
   "metadata": {},
   "source": [
    "Queremos darle a nuetro programa la capacidad de tomar decisiones :. Esto puede hacerse una `sentencia if `\n",
    "utiliza una comparacion para obtener un boolean. si el booleano es `True`, el bloque de la sentencia se ejecuta , si el booleano es `False` nos saltamos a los que sigue depues del bloque "
   ]
  },
  {
   "cell_type": "code",
   "execution_count": 1,
   "id": "973b47d9",
   "metadata": {},
   "outputs": [],
   "source": [
    "var1 = 4\n",
    "var2 = 5"
   ]
  },
  {
   "cell_type": "code",
   "execution_count": 2,
   "id": "70c24ed7",
   "metadata": {},
   "outputs": [
    {
     "name": "stdout",
     "output_type": "stream",
     "text": [
      "el bloque sea ejecutado\n"
     ]
    }
   ],
   "source": [
    "if var1 < var2:\n",
    "    print(\"el bloque sea ejecutado\")"
   ]
  },
  {
   "cell_type": "code",
   "execution_count": 6,
   "id": "183c635c",
   "metadata": {},
   "outputs": [],
   "source": [
    "var1 = int (input(\"Ingrese un número: \"))\n",
    "var2 = int (input(\"Ingrese otro número: \"))\n",
    "if var1 < var2:\n",
    "    print(f\"el numero {var1} es menor que {var2}\")\n"
   ]
  },
  {
   "cell_type": "markdown",
   "id": "826ce414",
   "metadata": {},
   "source": [
    "una funcion que solicita un valor"
   ]
  },
  {
   "cell_type": "code",
   "execution_count": 7,
   "id": "bf459d56",
   "metadata": {},
   "outputs": [],
   "source": [
    "def solicitar():\n",
    "    return int(input(\"Ingrese un número: \"))"
   ]
  },
  {
   "cell_type": "code",
   "execution_count": 8,
   "id": "a2fe07c5",
   "metadata": {},
   "outputs": [],
   "source": [
    "# Funcion que hace la comparación\n",
    "def comparar(num1, num2):\n",
    "    if num1 < num2:\n",
    "        print(f\"el numero {num1} es menor que {num2}\")"
   ]
  },
  {
   "cell_type": "code",
   "execution_count": 11,
   "id": "619cd6ac",
   "metadata": {},
   "outputs": [
    {
     "name": "stdout",
     "output_type": "stream",
     "text": [
      "el numero 45 es menor que 50\n"
     ]
    }
   ],
   "source": [
    "# Ejecucion de las funciones\n",
    "\n",
    "var1 = solicitar()\n",
    "var2 = solicitar()\n",
    "comparar(var1, var2)"
   ]
  },
  {
   "cell_type": "markdown",
   "id": "13cfc3a5",
   "metadata": {},
   "source": [
    "1. **Desarollar un programa que termine si un numero es positivo**\n",
    "2. **Desarollar un programa que termine si puedes votar, la edad minima es 18**\n",
    "3. **verificar si un numero es par**\n",
    "4. **REalisar a simulaccion de login , en el cual deve varificar si la contreaseña es correcta**\n",
    "5. **Realizar un programa que determine si el alumno esta aprovado la calificaion minima es 7**\n"
   ]
  },
  {
   "cell_type": "code",
   "execution_count": 2,
   "id": "fb92748b",
   "metadata": {},
   "outputs": [],
   "source": [
    "#Desarollar un programa que determine si un nuemero es positivo\n",
    "\n",
    "\n",
    "def es_positivo(numero):\n",
    "    if numero > 0:\n",
    "        print(f\"El número {numero} es positivo\")\n",
    "   "
   ]
  },
  {
   "cell_type": "code",
   "execution_count": 25,
   "id": "d3abd1a6",
   "metadata": {},
   "outputs": [
    {
     "name": "stdout",
     "output_type": "stream",
     "text": [
      " el valor si es positivo\n"
     ]
    }
   ],
   "source": [
    "print(\" el valor si es positivo\")\n",
    "numero = int(input(\"Ingrese un número: \"))"
   ]
  },
  {
   "cell_type": "code",
   "execution_count": 22,
   "id": "0cfe47c6",
   "metadata": {},
   "outputs": [],
   "source": [
    "# Desarrollar un programa que determine si puedes votar la edad mimima es 18 años\n",
    "def puede_votar(edad):\n",
    "    if edad >= 18:\n",
    "        print(f\"Con {edad} años, puedes votar\")\n",
    "    else:\n",
    "        print(f\"Con {edad} años, no puedes votar\")"
   ]
  },
  {
   "cell_type": "code",
   "execution_count": 23,
   "id": "b81dd3d3",
   "metadata": {},
   "outputs": [
    {
     "name": "stdout",
     "output_type": "stream",
     "text": [
      "Ingrese su edad para verificar si puede votar:\n"
     ]
    }
   ],
   "source": [
    "print(\"Ingrese su edad para verificar si puede votar:\")\n",
    "edad = int(input())"
   ]
  },
  {
   "cell_type": "markdown",
   "id": "fa8660e1",
   "metadata": {},
   "source": [
    "---\n"
   ]
  },
  {
   "cell_type": "code",
   "execution_count": 27,
   "id": "f51aa116",
   "metadata": {},
   "outputs": [],
   "source": [
    "numero_1 = solicitar()\n",
    "if numero_1 % 2 == 0:\n",
    "    print(f\"El número {numero_1} es par\")"
   ]
  },
  {
   "cell_type": "code",
   "execution_count": null,
   "id": "64865b98",
   "metadata": {},
   "outputs": [],
   "source": [
    "numero_1 = solicitar()\n",
    "if not numero_1 % 2 == 0:\n",
    "    print(f\"El número {numero_1} es impar\")"
   ]
  },
  {
   "cell_type": "markdown",
   "id": "33397cec",
   "metadata": {},
   "source": [
    "---\n"
   ]
  },
  {
   "cell_type": "code",
   "execution_count": null,
   "id": "df47cc5f",
   "metadata": {},
   "outputs": [
    {
     "name": "stdout",
     "output_type": "stream",
     "text": [
      "Fin del programa\n"
     ]
    }
   ],
   "source": [
    "#1 \n",
    "numero = solicitar()\n",
    "if (numero > 0):\n",
    "    print(f\"El número {numero} es positivo\")\n",
    "\n",
    "print('Fin del programa')"
   ]
  },
  {
   "cell_type": "code",
   "execution_count": null,
   "id": "2d3ec629",
   "metadata": {},
   "outputs": [
    {
     "name": "stdout",
     "output_type": "stream",
     "text": [
      "Con 66 años, puedes votar\n"
     ]
    }
   ],
   "source": [
    "#2\n",
    "edad = solicitar()\n",
    "if (edad >= 18):\n",
    "    print(f\"Con {edad} años, puedes votar\")"
   ]
  },
  {
   "cell_type": "code",
   "execution_count": null,
   "id": "07bf5466",
   "metadata": {},
   "outputs": [
    {
     "name": "stdout",
     "output_type": "stream",
     "text": [
      "Con una calificación de 5, has reprobado el curso\n"
     ]
    }
   ],
   "source": [
    "#5 \n",
    "calif = solicitar()\n",
    "if (calif <= 7):\n",
    "    print(f\"Con una calificación de {calif}, has reprobado el curso\")"
   ]
  },
  {
   "cell_type": "markdown",
   "id": "5313fc96",
   "metadata": {},
   "source": [
    "--- \n",
    "Operadores Logicos\n",
    "\n",
    "### Operador or\n",
    "\n",
    "| A   | B   | A or B |\n",
    "|-----|-----|--------|\n",
    "| F   | F   | F      |\n",
    "| T   | F   | T      |\n",
    "| F   | T   | T      |\n",
    "| T   | T   | T      |\n",
    "\n",
    "### Operador and\n",
    "\n",
    "| A   | B   | A and B |\n",
    "|-----|-----|---------|\n",
    "| F   | F   | F       |\n",
    "| T   | F   | F       |\n",
    "| F   | T   | F       |\n",
    "| T   | T   | T       |\n",
    "\n",
    "### Operador not\n",
    "\n",
    "| A   | not A |\n",
    "|-----|--------|\n",
    "| F   | T      |\n",
    "| T   | F      |\n",
    "\n"
   ]
  },
  {
   "cell_type": "code",
   "execution_count": 14,
   "id": "52d1af8a",
   "metadata": {},
   "outputs": [
    {
     "data": {
      "text/plain": [
       "True"
      ]
     },
     "execution_count": 14,
     "metadata": {},
     "output_type": "execute_result"
    }
   ],
   "source": [
    "resultado = 4>5 or 5==5\n",
    "resultado"
   ]
  },
  {
   "cell_type": "code",
   "execution_count": 15,
   "id": "570a8f16",
   "metadata": {},
   "outputs": [
    {
     "data": {
      "text/plain": [
       "False"
      ]
     },
     "execution_count": 15,
     "metadata": {},
     "output_type": "execute_result"
    }
   ],
   "source": [
    "resultado = 4>5 and 5==5\n",
    "resultado"
   ]
  },
  {
   "cell_type": "code",
   "execution_count": 16,
   "id": "e16b3842",
   "metadata": {},
   "outputs": [
    {
     "data": {
      "text/plain": [
       "True"
      ]
     },
     "execution_count": 16,
     "metadata": {},
     "output_type": "execute_result"
    }
   ],
   "source": [
    "resultado = not (4>5 and 5==5)\n",
    "resultado"
   ]
  },
  {
   "cell_type": "code",
   "execution_count": 18,
   "id": "941fbdbf",
   "metadata": {},
   "outputs": [
    {
     "data": {
      "text/plain": [
       "True"
      ]
     },
     "execution_count": 18,
     "metadata": {},
     "output_type": "execute_result"
    }
   ],
   "source": [
    "resultado = not 4>5 or 5==5\n",
    "resultado"
   ]
  },
  {
   "cell_type": "code",
   "execution_count": 19,
   "id": "e11595eb",
   "metadata": {},
   "outputs": [
    {
     "data": {
      "text/plain": [
       "False"
      ]
     },
     "execution_count": 19,
     "metadata": {},
     "output_type": "execute_result"
    }
   ],
   "source": [
    "resultado = not 4<5 or 5!=5\n",
    "resultado"
   ]
  },
  {
   "cell_type": "markdown",
   "id": "2167fac8",
   "metadata": {},
   "source": [
    "1. - verifivar si un numero esta en el rango de 10 y 20\n",
    "2. - verificar si un usuario tiene acceso a clarlis si tiene minimo 18 años o tiene permiso especial\n",
    "3. - verifica si un numero no es igual a 0\n",
    "4. - verificar si un valor esta fuera del rango del 0 al 30\n"
   ]
  },
  {
   "cell_type": "code",
   "execution_count": 20,
   "id": "7e12df44",
   "metadata": {},
   "outputs": [],
   "source": [
    "def solicitar():\n",
    "    return int(input(\"Ingrese un número: \"))"
   ]
  },
  {
   "cell_type": "code",
   "execution_count": 21,
   "id": "115a8c67",
   "metadata": {},
   "outputs": [
    {
     "name": "stdout",
     "output_type": "stream",
     "text": [
      "El número 12 está en el rango de 10 a 20\n"
     ]
    }
   ],
   "source": [
    "#1 verifivar si un numero esta en el rango de 10 y 20\n",
    "numero = solicitar()\n",
    "if 10 <= numero <= 20:\n",
    "    print(f\"El número {numero} está en el rango de 10 a 20\")"
   ]
  },
  {
   "cell_type": "code",
   "execution_count": 31,
   "id": "a0d0d00e",
   "metadata": {},
   "outputs": [],
   "source": [
    "#2 verificar si un usuario tiene acceso a clarlis si tiene minimo 18 años o tiene permiso especial\n",
    "numero = solicitar()\n",
    "edad = solicitar()\n",
    "if edad >= 18 or numero == 1234:\n",
    "    print(f\"Con {edad} años o con el permiso especial, tienes acceso al área restringida\")"
   ]
  },
  {
   "cell_type": "code",
   "execution_count": 36,
   "id": "a078782d",
   "metadata": {},
   "outputs": [
    {
     "name": "stdout",
     "output_type": "stream",
     "text": [
      "El número 30 no es igual a 0\n",
      "Si es igual a 30 Fin del programa\n"
     ]
    }
   ],
   "source": [
    "#3 verifica si un numero no es igual a 0\n",
    "numero = solicitar()\n",
    "if numero != 0:\n",
    "    print(f\"El número {numero} no es igual a 0\")\n",
    "print(f\"Si es igual a {numero} Fin del programa\")"
   ]
  },
  {
   "cell_type": "code",
   "execution_count": null,
   "id": "ee936cb0",
   "metadata": {},
   "outputs": [],
   "source": [
    "#4 verificar si un valor esta fuera del rango del 0 al 30\n",
    "numero = solicitar()\n",
    "if numero < 0 or numero > 30:\n",
    "    print(f\"El número {numero} está fuera del rango de 0 a 30\") "
   ]
  },
  {
   "cell_type": "markdown",
   "id": "12c3fcd5",
   "metadata": {},
   "source": [
    "Hay veces que queremos tener una acion `defaul`, quremos que suseda en caso que la comparacion sea `False`para esto podeos usar una sentencia `else`. piensenlo como preguntarse a uno mismo \"Si meto mi mano a la bolsa y resulta que encuentro un billete de $50, me compro unos nachos ; y sino hay nada , vere una pelicula con mi novio llorando de tristeza por que no es el otro\""
   ]
  },
  {
   "cell_type": "code",
   "execution_count": 38,
   "id": "34f5678c",
   "metadata": {},
   "outputs": [
    {
     "name": "stdout",
     "output_type": "stream",
     "text": [
      "la condición no se cumple\n"
     ]
    }
   ],
   "source": [
    "var_1 = 4\n",
    "var_2 = 5\n",
    "\n",
    "if var_1 > var_2:\n",
    "    print(\"la condición se cumple\")\n",
    "else:\n",
    "    print(\"la condición no se cumple\")"
   ]
  },
  {
   "cell_type": "code",
   "execution_count": 40,
   "id": "d5223b61",
   "metadata": {},
   "outputs": [
    {
     "name": "stdout",
     "output_type": "stream",
     "text": [
      "El número 67 es mayor que 7\n"
     ]
    }
   ],
   "source": [
    "# encontrar el numero mas grande entre dos numeros\n",
    "numero1 = int(input(\"Ingrese el primer número: \"))\n",
    "numero2 = int(input(\"Ingrese el segundo número: \"))\n",
    "\n",
    "if numero1 > numero2:\n",
    "    print(f\"El número {numero1} es mayor que {numero2}\")  \n",
    "elif numero1 < numero2:\n",
    "    print(f\"El número {numero2} es mayor que {numero1}\")"
   ]
  },
  {
   "cell_type": "code",
   "execution_count": 45,
   "id": "d6607e7f",
   "metadata": {},
   "outputs": [
    {
     "ename": "SyntaxError",
     "evalue": "invalid syntax (1225007865.py, line 6)",
     "output_type": "error",
     "traceback": [
      "\u001b[1;36m  File \u001b[1;32m\"C:\\Users\\alina\\AppData\\Local\\Temp\\ipykernel_23604\\1225007865.py\"\u001b[1;36m, line \u001b[1;32m6\u001b[0m\n\u001b[1;33m    else\u001b[0m\n\u001b[1;37m        ^\u001b[0m\n\u001b[1;31mSyntaxError\u001b[0m\u001b[1;31m:\u001b[0m invalid syntax\n"
     ]
    }
   ],
   "source": [
    "numero1 = int(input(\"Ingrese el primer número: \"))\n",
    "numero2 = int(input(\"Ingrese el segundo número: \"))\n",
    "\n",
    "if numero1 > numero2:\n",
    "    numero_mayor = numero1\n",
    "else\n",
    "    numero_mayor = numero2\n",
    "    print(f\"El número mayor es {numero_mayor}\")"
   ]
  },
  {
   "cell_type": "markdown",
   "id": "14a17de6",
   "metadata": {},
   "source": [
    "si queremos que haya mas de dos opciones utilisando la sentencia `elif`"
   ]
  },
  {
   "cell_type": "code",
   "execution_count": 46,
   "id": "25c304b9",
   "metadata": {},
   "outputs": [
    {
     "name": "stdout",
     "output_type": "stream",
     "text": [
      "El número 14 es mayor que 12\n"
     ]
    }
   ],
   "source": [
    "var_1 = 12\n",
    "var_2 = 14\n",
    "\n",
    "if var_1 > var_2:\n",
    "    print(f\"El número {var_1} es mayor que {var_2}\")\n",
    "elif var_1 < var_2:\n",
    "    print(f\"El número {var_2} es mayor que {var_1}\")\n",
    "else:\n",
    "    print(\"Los números son iguales\")"
   ]
  },
  {
   "cell_type": "markdown",
   "id": "48531e72",
   "metadata": {},
   "source": [
    "#### 1. Comparaciones numéricas\n",
    "\n",
    "Vamos a imaginar que estamos analizando un conjunto de datos que contiene las ventas anuales en pesos de unos vendedores que trabajan en nuestra empresa. Obtenemos el total de ventas anuales en pesos y lo tenemos asignado a la variable ventas_anuales_totales. Escribe una estructura de control que nos diga de cuánto va a ser el bono de nuestro empleado.\n",
    "\n",
    "Si las ventas son mayores a `$`1,000,000 el bono será de 20% del sueldo; si son entre `$`700,000 y `$`1,000,000 el bono será de 15% del sueldo; entre `$`400,000 y `$`700,000 el bono será de 10% del sueldo; entre `$`100,00 y 400,000 el bono será de 5% del sueldo; y debajo de `$`100,000 el bono será del 1% del sueldo.\n",
    "\n",
    "Escribe tu estructura de control y, por ahora (más adelante tendremos más herramientas para hacer esto más interesante) imprime una string que diga de cuánto va a ser el bono.\n",
    "\n",
    "> Reto opcional: Agrega una variable sueldo que sea el sueldo de tu empleado y agrégale el porcentaje de bono a esa variable dependiendo de la condición que se cumpla. Después hasta el final imprime una string interpolada que diga algo como \"Felicidades, tu sueldo es x; tu bono es de x; y el total de sueldo con el bono incluido es de x\". ¡Para que esto funcione también debes de agregar una variable donde guardes la cantidad del bono!"
   ]
  },
  {
   "cell_type": "code",
   "execution_count": 1,
   "id": "e6b84d0b",
   "metadata": {},
   "outputs": [
    {
     "name": "stdout",
     "output_type": "stream",
     "text": [
      "El bono del empleado es de 4950.400000000001 pesos\n"
     ]
    }
   ],
   "source": [
    "# Vamos a imaginar que estamos analizando un conjunto de datos que contiene las ventas anuales en pesos de unos vendedores que trabajan en nuestra empresa. Obtenemos el total de ventas anuales en pesos y lo tenemos asignado a la variable ventas_anuales_totales. Escribe una estructura de control que nos diga de cuánto va a ser el bono de nuestro empleado\n",
    "ventas_anuales_totales = float(input(\"Ingrese el total de ventas anuales en pesos: \"))\n",
    "\n",
    "if ventas_anuales_totales > 100000:\n",
    "    bono = ventas_anuales_totales * 0.20\n",
    "    print(f\"El bono del empleado es de {bono} pesos\")\n",
    "\n",
    "elif ventas_anuales_totales > 70000 and ventas_anuales_totales <= 100000:\n",
    "    bono = ventas_anuales_totales * 0.15\n",
    "    print(f\"El bono del empleado es de {bono} pesos\")\n",
    "\n",
    "elif ventas_anuales_totales >= 40000 and ventas_anuales_totales <= 70000:\n",
    "    bono = ventas_anuales_totales * 0.10\n",
    "    print(f\"El bono del empleado es de {bono} pesos\")\n",
    "elif ventas_anuales_totales >= 10000 and ventas_anuales_totales <= 40000:\n",
    "    bono = ventas_anuales_totales * 0.05\n",
    "    print(f\"El bono del empleado es de {bono} pesos\")\n",
    "else:\n",
    "    bono = ventas_anuales_totales * 0.01    \n",
    "    print(f\"El bono del empleado es de {bono} pesos.\")"
   ]
  }
 ],
 "metadata": {
  "kernelspec": {
   "display_name": "Python 3",
   "language": "python",
   "name": "python3"
  },
  "language_info": {
   "codemirror_mode": {
    "name": "ipython",
    "version": 3
   },
   "file_extension": ".py",
   "mimetype": "text/x-python",
   "name": "python",
   "nbconvert_exporter": "python",
   "pygments_lexer": "ipython3",
   "version": "3.7.9"
  }
 },
 "nbformat": 4,
 "nbformat_minor": 5
}
