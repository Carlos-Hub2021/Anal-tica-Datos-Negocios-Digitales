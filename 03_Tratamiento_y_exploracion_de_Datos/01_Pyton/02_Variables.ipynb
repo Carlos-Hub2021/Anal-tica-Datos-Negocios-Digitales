{
 "cells": [
  {
   "cell_type": "markdown",
   "id": "6690d9b3",
   "metadata": {},
   "source": [
    "# Ejemplo 2 variables\n",
    "\n",
    "## objetivos: \n",
    "    - Entender cuál es la sintaxis de la asignacion de variables en python\n",
    "    - Aprender la convencion de mnombramiento de variables\n",
    "    "
   ]
  },
  {
   "cell_type": "markdown",
   "id": "51634cea",
   "metadata": {},
   "source": [
    "### 2. Desarollo \n",
    "Los siqgientes nombres son nombres posibles de variables en python \n",
    "\n",
    "- var_1 \n",
    "- variable_2\n",
    "- variable_dos\n",
    "- variable_nueva_tres\n",
    "- esta_es_una_variable_nueva"
   ]
  },
  {
   "cell_type": "markdown",
   "id": "f212cc7c",
   "metadata": {},
   "source": [
    "Los siguientes nombres son nombres invalidos para una variable en python\n",
    "\n",
    "- 1_2\n",
    "- 1_variable\n",
    "- variableDos\n",
    "- EstaEsUnaVariable\n",
    "- Soy una variable\n"
   ]
  },
  {
   "cell_type": "markdown",
   "id": "05fb1769",
   "metadata": {},
   "source": [
    "Asignar unas cuantas blarables"
   ]
  },
  {
   "cell_type": "code",
   "execution_count": 1,
   "id": "18ef01bd",
   "metadata": {},
   "outputs": [],
   "source": [
    "var_1 = 3\n",
    "var_2 = 6\n",
    "variable_3 = 10\n",
    "variable_nueva_4 = 20"
   ]
  },
  {
   "cell_type": "markdown",
   "id": "b7e388e3",
   "metadata": {},
   "source": [
    "Podemos accedr a su contenido con tan solo escribir el nombre de la bariable en una celda"
   ]
  },
  {
   "cell_type": "code",
   "execution_count": 2,
   "id": "44f93ea6",
   "metadata": {},
   "outputs": [
    {
     "data": {
      "text/plain": [
       "3"
      ]
     },
     "execution_count": 2,
     "metadata": {},
     "output_type": "execute_result"
    }
   ],
   "source": [
    "var_1"
   ]
  },
  {
   "cell_type": "code",
   "execution_count": 5,
   "id": "3ac4df38",
   "metadata": {},
   "outputs": [
    {
     "data": {
      "text/plain": [
       "20"
      ]
     },
     "execution_count": 5,
     "metadata": {},
     "output_type": "execute_result"
    }
   ],
   "source": [
    "variable_nueva_4"
   ]
  },
  {
   "cell_type": "markdown",
   "id": "d7676fb9",
   "metadata": {},
   "source": [
    "Se intento llamar una varible que no existe JN va lanzar un error"
   ]
  },
  {
   "cell_type": "code",
   "execution_count": 4,
   "id": "d8cda373",
   "metadata": {},
   "outputs": [
    {
     "ename": "NameError",
     "evalue": "name 'var_5' is not defined",
     "output_type": "error",
     "traceback": [
      "\u001b[1;31m---------------------------------------------------------------------------\u001b[0m",
      "\u001b[1;31mNameError\u001b[0m                                 Traceback (most recent call last)",
      "\u001b[1;32m~\\AppData\\Local\\Temp\\ipykernel_12708\\3130999001.py\u001b[0m in \u001b[0;36m<module>\u001b[1;34m\u001b[0m\n\u001b[1;32m----> 1\u001b[1;33m \u001b[0mvar_5\u001b[0m\u001b[1;33m\u001b[0m\u001b[1;33m\u001b[0m\u001b[0m\n\u001b[0m",
      "\u001b[1;31mNameError\u001b[0m: name 'var_5' is not defined"
     ]
    }
   ],
   "source": [
    "var_5\n"
   ]
  },
  {
   "cell_type": "markdown",
   "id": "bc8fdcc8",
   "metadata": {},
   "source": [
    "De igual manera, si se escribe una asignacion pero no se corre la celda esa variable no estara disponible para el notbook "
   ]
  },
  {
   "cell_type": "code",
   "execution_count": 7,
   "id": "385f6f9f",
   "metadata": {},
   "outputs": [],
   "source": [
    "var_2 = 66"
   ]
  },
  {
   "cell_type": "code",
   "execution_count": 8,
   "id": "8ab2926e",
   "metadata": {},
   "outputs": [
    {
     "data": {
      "text/plain": [
       "66"
      ]
     },
     "execution_count": 8,
     "metadata": {},
     "output_type": "execute_result"
    }
   ],
   "source": [
    "var_2"
   ]
  },
  {
   "cell_type": "markdown",
   "id": "c4599822",
   "metadata": {},
   "source": [
    "## Reto 1: Variables\n",
    "\n",
    "### 1. Objetivos:\n",
    "    - Procticar Convencion de Nombramiento y asignacion de Variables \n",
    "\n",
    "### 2. Desarrollo\n",
    "\n",
    "`Realizar la siguiente practica`"
   ]
  },
  {
   "cell_type": "code",
   "execution_count": null,
   "id": "2612ff6e",
   "metadata": {},
   "outputs": [],
   "source": [
    "# asigna el numero 1234 a una variable llamada locochona\n",
    "\n",
    "# asigna el nuemero 12.3445 a la variavle var decimal\n",
    "\n",
    "#  asigna un numero cualquiera a una varible que tenga 5 palabras en su nombre\n",
    "\n",
    "# Asigna cualquiernumero a una variable que incluya palabrar  y numeros en su nombre"
   ]
  },
  {
   "cell_type": "code",
   "execution_count": null,
   "id": "8292df66",
   "metadata": {},
   "outputs": [],
   "source": [
    "locochona = 1234\n",
    "\n",
    "var_decimal = 12.3445\n",
    "\n",
    "numero_para_variable_con_cinco_palabras = 42\n",
    "\n",
    "variable_5palabras_2024 = 99"
   ]
  }
 ],
 "metadata": {
  "kernelspec": {
   "display_name": "Python 3",
   "language": "python",
   "name": "python3"
  },
  "language_info": {
   "codemirror_mode": {
    "name": "ipython",
    "version": 3
   },
   "file_extension": ".py",
   "mimetype": "text/x-python",
   "name": "python",
   "nbconvert_exporter": "python",
   "pygments_lexer": "ipython3",
   "version": "3.7.9"
  }
 },
 "nbformat": 4,
 "nbformat_minor": 5
}
