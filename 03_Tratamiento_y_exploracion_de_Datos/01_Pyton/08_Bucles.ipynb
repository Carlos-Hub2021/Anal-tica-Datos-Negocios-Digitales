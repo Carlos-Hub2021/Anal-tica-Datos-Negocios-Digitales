{
 "cells": [
  {
   "cell_type": "markdown",
   "id": "25f1babc",
   "metadata": {},
   "source": [
    "# Bucles o loopas o ciclos\n",
    "\n",
    "## Bucles con wile"
   ]
  },
  {
   "cell_type": "markdown",
   "id": "7e2a117f",
   "metadata": {},
   "source": [
    "#### Bucle infinito"
   ]
  },
  {
   "cell_type": "code",
   "execution_count": null,
   "id": "d2ba5107",
   "metadata": {},
   "outputs": [
    {
     "ename": "KeyboardInterrupt",
     "evalue": "",
     "output_type": "error",
     "traceback": [
      "\u001b[1;31m---------------------------------------------------------------------------\u001b[0m",
      "\u001b[1;31mKeyboardInterrupt\u001b[0m                         Traceback (most recent call last)",
      "\u001b[1;32m~\\AppData\\Local\\Temp\\ipykernel_18568\\1382181385.py\u001b[0m in \u001b[0;36m<module>\u001b[1;34m\u001b[0m\n\u001b[0;32m      1\u001b[0m \u001b[1;32mwhile\u001b[0m \u001b[1;32mTrue\u001b[0m\u001b[1;33m:\u001b[0m\u001b[1;33m\u001b[0m\u001b[1;33m\u001b[0m\u001b[0m\n\u001b[1;32m----> 2\u001b[1;33m     \u001b[1;32mpass\u001b[0m\u001b[1;33m\u001b[0m\u001b[1;33m\u001b[0m\u001b[0m\n\u001b[0m\u001b[0;32m      3\u001b[0m \u001b[0mprint\u001b[0m\u001b[1;33m(\u001b[0m\u001b[1;34m\"Estoy dentro del bucle y no pude salir\"\u001b[0m\u001b[1;33m)\u001b[0m\u001b[1;33m\u001b[0m\u001b[1;33m\u001b[0m\u001b[0m\n",
      "\u001b[1;31mKeyboardInterrupt\u001b[0m: "
     ]
    }
   ],
   "source": [
    "while True:\n",
    "    print(\"Estoy dentro del bucle y no pude salir\")\n",
    "    "
   ]
  },
  {
   "cell_type": "code",
   "execution_count": null,
   "id": "3d684c82",
   "metadata": {},
   "outputs": [],
   "source": [
    "numero_grande = -9999999999 # Este código nunca se ejecutará porque el bucle es infinito\n",
    "\n",
    "# ingresa el primer valor\n",
    "number = int(input(\"Ingrese un número:  o -1 para salir: \"))\n",
    "\n",
    "while number != -1:\n",
    "    # ¿Es el numero mas grande que el valor numero_grande ?\n",
    "    if number > numero_grande:\n",
    "        numero_grande = number\n",
    "    \n",
    "    nomber = int(input(\"Ingrese un número:  o -1 para salir: \"))\n",
    "    \n",
    "print(\"El número más grande es:\", numero_grande)"
   ]
  },
  {
   "cell_type": "code",
   "execution_count": null,
   "id": "650d59a3",
   "metadata": {},
   "outputs": [
    {
     "name": "stdout",
     "output_type": "stream",
     "text": [
      "Soy el número 1\n",
      "Soy el número 2\n",
      "Soy el número 3\n",
      "Soy el número 4\n",
      "Soy el número 5\n",
      "He terminado de imprimir los números del 1 al 6\n"
     ]
    }
   ],
   "source": [
    "# imprimir todos los números de 1 a n\n",
    "\n",
    "numero = int(input(\"Ingrese un número: \"))\n",
    "i= 1\n",
    "while i <= numero:\n",
    "    print(f\"Soy el número {i}\")\n",
    "    i = i + 1\n",
    "print(f\"He terminado de imprimir los números del 1 al {i}\")\n"
   ]
  },
  {
   "cell_type": "code",
   "execution_count": null,
   "id": "02007718",
   "metadata": {},
   "outputs": [
    {
     "name": "stdout",
     "output_type": "stream",
     "text": [
      "El promedio de las calificaciones es: 6.40\n"
     ]
    }
   ],
   "source": [
    "## realizar un programa que calcule el promedio de calificaciones n\n",
    "numero = int(input(\"Ingrese la cantidad de calificaciones: \"))\n",
    "\n",
    "suma = 0\n",
    "i = 0\n",
    "while i < numero:\n",
    "    calificacion = float(input(f\"Ingrese la calificación {i + 1}: \"))\n",
    "    suma += calificacion\n",
    "    i += 1 \n",
    "promedio = suma / numero\n",
    "print(f\"El promedio de las calificaciones es: {promedio:.2f}\")\n"
   ]
  },
  {
   "cell_type": "code",
   "execution_count": null,
   "id": "2f7b832a",
   "metadata": {},
   "outputs": [
    {
     "name": "stdout",
     "output_type": "stream",
     "text": [
      "La suma de las calificaciones es: 8.666666666666666\n"
     ]
    }
   ],
   "source": [
    "n = float(input(\"Ingrese el número de calificaciones: \"))\n",
    "i = 0\n",
    "suma = 0\n",
    "calificacion = 0.0\n",
    "while (i < n):\n",
    "    calificacion = float(input(f\"introduce la calificación {i + 1}: \"))\n",
    "    suma += calificacion\n",
    "    i += 1\n",
    "print(f\"La suma de las calificaciones es: {suma/n}\")"
   ]
  },
  {
   "cell_type": "code",
   "execution_count": 4,
   "id": "74a30dd2",
   "metadata": {},
   "outputs": [
    {
     "name": "stdout",
     "output_type": "stream",
     "text": [
      "Cantidad de calificaciones aprobadas: 3\n",
      "Cantidad de calificaciones desaprobadas: 2\n"
     ]
    }
   ],
   "source": [
    "calif = float(input(\"Ingrese la calificación o -1 para salir: \"))\n",
    "califAprob = 0\n",
    "califDesaprob = 0   \n",
    "\n",
    "\n",
    "\n",
    "while calif != -1:\n",
    "    if calif >=7.0 and calif <= 10.0:\n",
    "        califAprob = califDesaprob + 1\n",
    "    elif calif < 7.0 and calif >= 0.0:\n",
    "        califDesaprob += 1\n",
    "    \n",
    "    calif = int(input(\"Ingrese la calificación o -1 para salir: \"))\n",
    "\n",
    "print(f\"Cantidad de calificaciones aprobadas: {califAprob}\")\n",
    "print(f\"Cantidad de calificaciones desaprobadas: {califDesaprob}\")\n"
   ]
  },
  {
   "cell_type": "markdown",
   "id": "5dab86a8",
   "metadata": {},
   "source": [
    "## Bucle fon `For`\n",
    "\n",
    "otro tipo de Bicle disponible `Python` previene de la observacion de que aveces es mas inportante los giros o bueltas del bucle de las condiciones\n",
    "\n",
    "```python\n",
    "\n",
    "for i in range (100):\n",
    "    # do_something()\n",
    "    pass\n",
    "\n",
    "```"
   ]
  },
  {
   "cell_type": "code",
   "execution_count": 5,
   "id": "e44e41fa",
   "metadata": {},
   "outputs": [
    {
     "name": "stdout",
     "output_type": "stream",
     "text": [
      "el valor de i es: 0\n",
      "el valor de i es: 1\n",
      "el valor de i es: 2\n",
      "el valor de i es: 3\n",
      "el valor de i es: 4\n",
      "el valor de i es: 5\n",
      "el valor de i es: 6\n",
      "el valor de i es: 7\n",
      "el valor de i es: 8\n",
      "el valor de i es: 9\n"
     ]
    }
   ],
   "source": [
    "for i in range(10):\n",
    "    print (f'el valor de i es: {i}')\n",
    "    "
   ]
  },
  {
   "cell_type": "code",
   "execution_count": 7,
   "id": "527a9423",
   "metadata": {},
   "outputs": [
    {
     "name": "stdout",
     "output_type": "stream",
     "text": [
      "el valor de i es: 1\n",
      "el valor de i es: 2\n",
      "el valor de i es: 3\n",
      "el valor de i es: 4\n",
      "el valor de i es: 5\n",
      "el valor de i es: 6\n",
      "el valor de i es: 7\n",
      "el valor de i es: 8\n",
      "el valor de i es: 9\n",
      "el valor de i es: 10\n"
     ]
    }
   ],
   "source": [
    "for i in range(10):\n",
    "    print (f'el valor de i es: {i + 1}')\n",
    "    "
   ]
  },
  {
   "cell_type": "code",
   "execution_count": 12,
   "id": "56884e1f",
   "metadata": {},
   "outputs": [
    {
     "name": "stdout",
     "output_type": "stream",
     "text": [
      "El valor de li es: 1\n",
      "El valor de li es: 2\n",
      "El valor de li es: 5\n",
      "El valor de li es: 6\n",
      "El valor de li es: 8\n",
      "El valor de li es: 9\n",
      "El valor de li es: [4, 5, 2, 3]\n",
      "El valor de li es: 10\n"
     ]
    }
   ],
   "source": [
    "lista = [1, 2,   5, 6,   8, 9, [4,5,2,3],10]\n",
    "for li in lista:\n",
    "    print(f'El valor de li es: {li}')"
   ]
  },
  {
   "cell_type": "markdown",
   "id": "9a53a87f",
   "metadata": {},
   "source": [
    "nota: \n",
    "el bucke se a ejecutado n veces (es el agripado de la funcion range())\n",
    "el valor de la ultima variavle de control es 9 (no 10 ya que comienza en 0, no desde 1)"
   ]
  },
  {
   "cell_type": "code",
   "execution_count": 13,
   "id": "82abbb81",
   "metadata": {},
   "outputs": [
    {
     "name": "stdout",
     "output_type": "stream",
     "text": [
      "el valor de i es 1\n",
      "el valor de i es 2\n",
      "el valor de i es 3\n",
      "el valor de i es 4\n",
      "el valor de i es 5\n",
      "el valor de i es 6\n",
      "el valor de i es 7\n",
      "el valor de i es 8\n",
      "el valor de i es 9\n",
      "el valor de i es 10\n"
     ]
    }
   ],
   "source": [
    "for i in range(1, 11):\n",
    "    print(f'el valor de i es {i}')"
   ]
  },
  {
   "cell_type": "code",
   "execution_count": 14,
   "id": "b42ad25b",
   "metadata": {},
   "outputs": [
    {
     "name": "stdout",
     "output_type": "stream",
     "text": [
      "el valor de i es 2\n",
      "el valor de i es 3\n",
      "el valor de i es 4\n",
      "el valor de i es 5\n",
      "el valor de i es 6\n",
      "el valor de i es 7\n"
     ]
    }
   ],
   "source": [
    "i = 2\n",
    "while i<8:\n",
    "    print(f'el valor de i es {i}')\n",
    "    i +=1"
   ]
  },
  {
   "cell_type": "markdown",
   "id": "948492df",
   "metadata": {},
   "source": [
    "la funcion range tambien puede haceptar 3 argumentos"
   ]
  },
  {
   "cell_type": "code",
   "execution_count": 16,
   "id": "9286970e",
   "metadata": {},
   "outputs": [
    {
     "name": "stdout",
     "output_type": "stream",
     "text": [
      "el valor de i es 2\n",
      "el valor de i es 4\n",
      "el valor de i es 6\n",
      "el valor de i es 8\n",
      "el valor de i es 10\n"
     ]
    }
   ],
   "source": [
    "for i in range(2, 11,2):\n",
    "    print(f'el valor de i es {i}')"
   ]
  },
  {
   "cell_type": "code",
   "execution_count": 18,
   "id": "79c60f2f",
   "metadata": {},
   "outputs": [
    {
     "name": "stdout",
     "output_type": "stream",
     "text": [
      "el valor de i es 2\n",
      "el valor de i es 4\n",
      "el valor de i es 6\n",
      "el valor de i es 8\n",
      "el valor de i es 10\n"
     ]
    }
   ],
   "source": [
    "i = 2\n",
    "while i< 11:\n",
    "    print(f'el valor de i es {i}')\n",
    "    i += 2"
   ]
  },
  {
   "cell_type": "markdown",
   "id": "af59c8ba",
   "metadata": {},
   "source": [
    "la sentencia break y continua\n",
    "\n",
    "`break` \n",
    "- sale del buble independiente , e incondicional mente termina la operacion del bucle el programa empiesa a ejecutar la instancia mas cercana\n",
    "\n",
    "`continue`\n",
    "- se comporta como si el programa hubiera llegado repentinamente al final del cuerpo; el siguiente turno de inicia y la exprecion de la condicion se prueba imediatamnte"
   ]
  },
  {
   "cell_type": "code",
   "execution_count": 20,
   "id": "41b6c9d6",
   "metadata": {},
   "outputs": [
    {
     "name": "stdout",
     "output_type": "stream",
     "text": [
      "es la instucion break\n",
      "dentro del Bucle\n",
      "dentro del Bucle\n",
      "fuera del bucle\n"
     ]
    }
   ],
   "source": [
    "# break\n",
    "print('es la instucion break')\n",
    "\n",
    "for i in range (1,6):\n",
    "    if i == 3:\n",
    "        break\n",
    "    print('dentro del Bucle')\n",
    "print('fuera del bucle')"
   ]
  },
  {
   "cell_type": "code",
   "execution_count": 24,
   "id": "5be70667",
   "metadata": {},
   "outputs": [
    {
     "name": "stdout",
     "output_type": "stream",
     "text": [
      "\n",
      "La instruccion continue\n",
      "dentro del Bucle. 1\n",
      "dentro del Bucle. 2\n",
      "dentro del Bucle. 4\n",
      "dentro del Bucle. 5\n",
      "fuera\n"
     ]
    }
   ],
   "source": [
    "# continue\n",
    "\n",
    "print('\\nLa instruccion continue')\n",
    "for i in range (1,6):\n",
    "    if i == 3:\n",
    "        continue\n",
    "    print(f'dentro del Bucle. {i}')\n",
    "print('fuera') "
   ]
  }
 ],
 "metadata": {
  "kernelspec": {
   "display_name": "Python 3",
   "language": "python",
   "name": "python3"
  },
  "language_info": {
   "codemirror_mode": {
    "name": "ipython",
    "version": 3
   },
   "file_extension": ".py",
   "mimetype": "text/x-python",
   "name": "python",
   "nbconvert_exporter": "python",
   "pygments_lexer": "ipython3",
   "version": "3.7.9"
  }
 },
 "nbformat": 4,
 "nbformat_minor": 5
}
