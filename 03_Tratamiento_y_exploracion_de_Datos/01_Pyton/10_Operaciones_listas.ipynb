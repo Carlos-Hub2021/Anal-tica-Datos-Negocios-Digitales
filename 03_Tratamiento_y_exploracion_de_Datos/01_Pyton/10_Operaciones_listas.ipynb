{
 "cells": [
  {
   "cell_type": "code",
   "execution_count": 34,
   "id": "80a058f8",
   "metadata": {},
   "outputs": [
    {
     "name": "stdout",
     "output_type": "stream",
     "text": [
      "Lista original: ['hallway', 11.25, 'kitchen', 18.0, 'Clill none', 20.0, 'bedroom', 10.75, 'bathtoom', 10.5, 'poolhouse', 24.5, 'garege', 15.45]\n",
      "['poolhouse', 24.5]\n",
      "['poolhouse', 24.5]\n",
      "Lista modificada: ['hallway', 11.25, 'kitchen', 18.0, 'Clill none', 20.0, 'bedroom', 10.75, 'bathtoom', 10.5, 'garege', 15.45]\n"
     ]
    }
   ],
   "source": [
    "# ejecucicion - Eliminalr 'poolhouse' y '24.5' de la lista areas\n",
    "\n",
    "areas = [\"hallway\", 11.25, 'kitchen', 18.0,\n",
    "        'Clill none', 20.0, 'bedroom', 10.75, \n",
    "        'bathtoom',10.50,'poolhouse', 24.5, 'garege', 15.45]\n",
    "\n",
    "print(\"Lista original:\", areas)\n",
    "\n",
    "print(areas[-4:-2])  # Imprime los elementos a eliminar\n",
    "print(areas[10:12]) # Imprime los elementos a eliminar\n",
    "del areas[-4:-2]  # Elimina 'poolhouse' y '24.5'\n",
    "\n",
    "print(\"Lista modificada:\", areas)"
   ]
  },
  {
   "cell_type": "markdown",
   "id": "968464f3",
   "metadata": {},
   "source": [
    "# Funciones y paquetes"
   ]
  },
  {
   "cell_type": "markdown",
   "id": "f579ec10",
   "metadata": {},
   "source": [
    "## `Funcion`\n",
    "Es una pieza de codigo reutilizable destinada a resolber una tarea en particular "
   ]
  },
  {
   "cell_type": "code",
   "execution_count": 12,
   "id": "7c93ddad",
   "metadata": {},
   "outputs": [
    {
     "name": "stdout",
     "output_type": "stream",
     "text": [
      "Lista original: [22, 54, 33, 38, 36]\n",
      "el tamaño de la lista es: 5\n",
      "El valos maximo de la lista es: 54\n"
     ]
    }
   ],
   "source": [
    "lis_fam = [22,54,33,38,36]\n",
    "\n",
    "print(\"Lista original:\", lis_fam)\n",
    "print(f'el tamaño de la lista es: {len(lis_fam)}')\n",
    "print(f'El valos maximo de la lista es: {max(lis_fam)}')\n"
   ]
  },
  {
   "cell_type": "code",
   "execution_count": 13,
   "id": "f7d3f164",
   "metadata": {},
   "outputs": [
    {
     "data": {
      "text/plain": [
       "1.69"
      ]
     },
     "execution_count": 13,
     "metadata": {},
     "output_type": "execute_result"
    }
   ],
   "source": [
    "round(1.689, 2)  # Redondea el número a dos decimales"
   ]
  },
  {
   "cell_type": "code",
   "execution_count": 14,
   "id": "7a76d717",
   "metadata": {},
   "outputs": [
    {
     "name": "stdout",
     "output_type": "stream",
     "text": [
      "Help on built-in function round in module builtins:\n",
      "\n",
      "round(number, ndigits=None)\n",
      "    Round a number to a given precision in decimal digits.\n",
      "    \n",
      "    The return value is an integer if ndigits is omitted or None.  Otherwise\n",
      "    the return value has the same type as the number.  ndigits may be negative.\n",
      "\n"
     ]
    }
   ],
   "source": [
    "help(round)  # Muestra la documentación de la función round"
   ]
  },
  {
   "cell_type": "code",
   "execution_count": 15,
   "id": "3a555e92",
   "metadata": {},
   "outputs": [
    {
     "name": "stdout",
     "output_type": "stream",
     "text": [
      "Help on built-in function pow in module builtins:\n",
      "\n",
      "pow(x, y, z=None, /)\n",
      "    Equivalent to x**y (with two arguments) or x**y % z (with three arguments)\n",
      "    \n",
      "    Some types, such as ints, are able to use a more efficient algorithm when\n",
      "    invoked using the three argument form.\n",
      "\n"
     ]
    }
   ],
   "source": [
    "help(pow)"
   ]
  },
  {
   "cell_type": "code",
   "execution_count": 18,
   "id": "04b414fb",
   "metadata": {},
   "outputs": [
    {
     "name": "stdout",
     "output_type": "stream",
     "text": [
      "Help on built-in function min in module builtins:\n",
      "\n",
      "min(...)\n",
      "    min(iterable, *[, default=obj, key=func]) -> value\n",
      "    min(arg1, arg2, *args, *[, key=func]) -> value\n",
      "    \n",
      "    With a single iterable argument, return its smallest item. The\n",
      "    default keyword-only argument specifies an object to return if\n",
      "    the provided iterable is empty.\n",
      "    With two or more arguments, return the smallest argument.\n",
      "\n"
     ]
    }
   ],
   "source": [
    "help(min) # Muestra la documentación de la función min que es el mínimo de una lista"
   ]
  },
  {
   "cell_type": "code",
   "execution_count": 21,
   "id": "e911d371",
   "metadata": {},
   "outputs": [
    {
     "name": "stdout",
     "output_type": "stream",
     "text": [
      "Lista ordenada: [18.0, 20.0, 25, 51]\n",
      "Lista ordenada ascendente: [18.0, 20.0, 25, 51]\n",
      "Lista ordenada descendente: [51, 25, 20.0, 18.0]\n"
     ]
    }
   ],
   "source": [
    "fisrt = [51, 25 ,18.0 , 20.0]\n",
    "full_sorted = sorted(fisrt)  # Ordena la lista fisrt\n",
    "full_sorted_asc = sorted(fisrt, reverse=False)  # Ordena la lista fisrt en orden ascendente\n",
    "full_sorted_desc = sorted(fisrt, reverse=True)  # Ordena la lista fisrt en orden descendente\n",
    "print(\"Lista ordenada:\", full_sorted)\n",
    "print(\"Lista ordenada ascendente:\", full_sorted_asc)\n",
    "print(\"Lista ordenada descendente:\", full_sorted_desc)"
   ]
  },
  {
   "cell_type": "markdown",
   "id": "df1d6fcf",
   "metadata": {},
   "source": [
    "### `Metodos` \n",
    "\n",
    "en phaython ttodo es objeto y cada objeto tiene metodos espscificos asosciados \n",
    "\n",
    "- Objetos con diferentes tipos pueden tener metosdos con e mismo nombre"
   ]
  },
  {
   "cell_type": "code",
   "execution_count": 24,
   "id": "be465b82",
   "metadata": {},
   "outputs": [
    {
     "name": "stdout",
     "output_type": "stream",
     "text": [
      "indice de maria: 4\n",
      "contar: 2 veces el elemento \"54\"\n"
     ]
    }
   ],
   "source": [
    "lis_fam = ['heydy', 22, 'ines',54, 'maria', 33, 'jose', 54, 'luis', 36]\n",
    "\n",
    "print(f\"indice de maria: {lis_fam.index('maria')}\")  # Encuentra el índice del elemento 'maria'\n",
    "\n",
    "print(f'contar: {lis_fam.count(54)} veces el elemento \"54\"')  # Cuenta cuántas veces aparece '54' en la lista"
   ]
  },
  {
   "cell_type": "code",
   "execution_count": 25,
   "id": "6a0f5957",
   "metadata": {},
   "outputs": [
    {
     "name": "stdout",
     "output_type": "stream",
     "text": [
      "Lista original: ['heydy', 22, 'ines', 54, 'maria', 33, 'jose', 54, 'luis', 36]\n",
      "Lista modificada: ['heydy', 22, 'ines', 54, 33, 'jose', 54, 'luis', 36]\n"
     ]
    }
   ],
   "source": [
    "print(\"Lista original:\", lis_fam)\n",
    "del (lis_fam[lis_fam.index('maria')])  # Elimina el elemento 'maria' de la lista\n",
    "print(\"Lista modificada:\", lis_fam)"
   ]
  },
  {
   "cell_type": "code",
   "execution_count": 26,
   "id": "383a2193",
   "metadata": {},
   "outputs": [
    {
     "name": "stdout",
     "output_type": "stream",
     "text": [
      "Mayumi\n"
     ]
    }
   ],
   "source": [
    "name = \"mayumi\"\n",
    "print(name.capitalize())  # Capitaliza la primera letra del nombre "
   ]
  },
  {
   "cell_type": "code",
   "execution_count": 27,
   "id": "6b78d3d8",
   "metadata": {},
   "outputs": [
    {
     "name": "stdout",
     "output_type": "stream",
     "text": [
      "Desarrollo\n"
     ]
    }
   ],
   "source": [
    "lista_entornos = ['desarrollo', 'pruebas', 'producción', 'despliegue', 'mantenimiento']\n",
    "\n",
    "lista_entornos = lista_entornos[0].capitalize()\n",
    "print(lista_entornos)  # Imprime 'Desarrollo' con la primera letra en mayúscula"
   ]
  },
  {
   "cell_type": "code",
   "execution_count": 28,
   "id": "5b654634",
   "metadata": {},
   "outputs": [
    {
     "name": "stdout",
     "output_type": "stream",
     "text": [
      "ma+-+umi\n"
     ]
    }
   ],
   "source": [
    "print(name.replace('y', '+-+'))  # Reemplaza 'mayumi' por 'Mayumi'"
   ]
  },
  {
   "cell_type": "code",
   "execution_count": 29,
   "id": "04bba2c4",
   "metadata": {},
   "outputs": [
    {
     "data": {
      "text/plain": [
       "'MAYUMI'"
      ]
     },
     "execution_count": 29,
     "metadata": {},
     "output_type": "execute_result"
    }
   ],
   "source": [
    "name.upper()  # Convierte el nombre a mayúsculas"
   ]
  },
  {
   "cell_type": "code",
   "execution_count": null,
   "id": "2838c745",
   "metadata": {},
   "outputs": [
    {
     "name": "stdout",
     "output_type": "stream",
     "text": [
      "lista original: [36, 'luis', 54, 'jose', 33, 54, 'ines', 22, 'heydy']\n",
      "lista modificada ['heydy', 22, 'ines', 54, 33, 'jose', 54, 'luis', 36]\n"
     ]
    }
   ],
   "source": [
    "print(\"lista original:\", lis_fam)\n",
    "lis_fam.reverse()  # Invierte el orden de los elementos en la lista lis_fam\n",
    "print(\"lista modificada\",lis_fam)  # Imprime la lista lis_fam invertida\n",
    "\n",
    "\n",
    "# logro :istas y  operaciones terminadas"
   ]
  }
 ],
 "metadata": {
  "kernelspec": {
   "display_name": "Python 3",
   "language": "python",
   "name": "python3"
  },
  "language_info": {
   "codemirror_mode": {
    "name": "ipython",
    "version": 3
   },
   "file_extension": ".py",
   "mimetype": "text/x-python",
   "name": "python",
   "nbconvert_exporter": "python",
   "pygments_lexer": "ipython3",
   "version": "3.7.9"
  }
 },
 "nbformat": 4,
 "nbformat_minor": 5
}
