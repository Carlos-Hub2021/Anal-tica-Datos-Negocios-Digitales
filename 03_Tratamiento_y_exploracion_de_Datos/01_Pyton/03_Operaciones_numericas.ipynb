{
 "cells": [
  {
   "cell_type": "markdown",
   "id": "1676a3b1",
   "metadata": {},
   "source": [
    "## Operaciones numericas\n",
    "\n",
    "### objetivo \n",
    "\n",
    "- mostrar como utilizar los operadores aridmeticos\n",
    "\n",
    "## Desarollo\n"
   ]
  },
  {
   "cell_type": "markdown",
   "id": "9b488bf5",
   "metadata": {},
   "source": [
    "Primero vamos a asicnar un as variables"
   ]
  },
  {
   "cell_type": "code",
   "execution_count": 1,
   "id": "2f7e5b2d",
   "metadata": {},
   "outputs": [],
   "source": [
    "var_1 = 4\n",
    "var_2 = 54\n",
    "var_3 = 23\n",
    "var_4 = 89\n",
    "\n"
   ]
  },
  {
   "cell_type": "code",
   "execution_count": 6,
   "id": "30914e82",
   "metadata": {},
   "outputs": [
    {
     "name": "stdout",
     "output_type": "stream",
     "text": [
      "4 54 23 89\n",
      "Imprimir las Variables | 4 | 54 | 23 | 89\n",
      "el valor de la variable var_1 es: 4 \n",
      "el valor de la variable var_2 es: 54\n"
     ]
    }
   ],
   "source": [
    "print( var_1 , var_2 , var_3 , var_4)\n",
    "\n",
    "print(\"Imprimir las Variables\", var_1, var_2, var_3, var_4, sep=\" | \")\n",
    "\n",
    "print('el valor de la variable var_1 es:', var_1, '\\nel valor de la variable var_2 es:', var_2  )"
   ]
  },
  {
   "cell_type": "markdown",
   "id": "9374d614",
   "metadata": {},
   "source": [
    "### Operadores numericos\n",
    "\n",
    "---\n",
    "| Operador | Nombre                  | Descripción                                 | Ejemplo        | Resultado |\n",
    "|----------|-------------------------|---------------------------------------------|----------------|-----------|\n",
    "| `+`      | Suma                    | Suma de dos operandos                        | `5 + 3`        | `8`       |\n",
    "| `-`      | Resta                   | Resta del segundo operando al primero        | `5 - 3`        | `2`       |\n",
    "| `*`      | Multiplicación          | Producto de dos operandos                    | `5 * 3`        | `15`      |\n",
    "| `/`      | División                | División del primero entre el segundo       | `5 / 2`        | `2.5`     |\n",
    "| `//`     | División entera         | División y redondeo hacia abajo             | `5 // 2`       | `2`       |\n",
    "| `%`      | Módulo (residuo)        | Residuo de la división                      | `5 % 2`        | `1`       |\n",
    "| `**`     | Exponente               | Potencia del primer operando al segundo     | `2 ** 3`       | `8`       |\n"
   ]
  },
  {
   "cell_type": "code",
   "execution_count": 7,
   "id": "60c93ab7",
   "metadata": {},
   "outputs": [
    {
     "data": {
      "text/plain": [
       "58"
      ]
     },
     "execution_count": 7,
     "metadata": {},
     "output_type": "execute_result"
    }
   ],
   "source": [
    "var_1 + var_2"
   ]
  },
  {
   "cell_type": "code",
   "execution_count": 8,
   "id": "24ed29e2",
   "metadata": {},
   "outputs": [
    {
     "data": {
      "text/plain": [
       "31"
      ]
     },
     "execution_count": 8,
     "metadata": {},
     "output_type": "execute_result"
    }
   ],
   "source": [
    "var_2 - var_3"
   ]
  },
  {
   "cell_type": "code",
   "execution_count": 9,
   "id": "222348c4",
   "metadata": {},
   "outputs": [
    {
     "data": {
      "text/plain": [
       "2047"
      ]
     },
     "execution_count": 9,
     "metadata": {},
     "output_type": "execute_result"
    }
   ],
   "source": [
    "var_3 * var_4"
   ]
  },
  {
   "cell_type": "code",
   "execution_count": 10,
   "id": "ef85d1ec",
   "metadata": {},
   "outputs": [
    {
     "data": {
      "text/plain": [
       "1.6481481481481481"
      ]
     },
     "execution_count": 10,
     "metadata": {},
     "output_type": "execute_result"
    }
   ],
   "source": [
    "var_4 / var_2\n"
   ]
  },
  {
   "cell_type": "code",
   "execution_count": 11,
   "id": "6cee222c",
   "metadata": {},
   "outputs": [
    {
     "data": {
      "text/plain": [
       "1"
      ]
     },
     "execution_count": 11,
     "metadata": {},
     "output_type": "execute_result"
    }
   ],
   "source": [
    "var_4 // var_2"
   ]
  },
  {
   "cell_type": "code",
   "execution_count": 12,
   "id": "49ea33d4",
   "metadata": {},
   "outputs": [
    {
     "data": {
      "text/plain": [
       "0.5"
      ]
     },
     "execution_count": 12,
     "metadata": {},
     "output_type": "execute_result"
    }
   ],
   "source": [
    "1/2"
   ]
  },
  {
   "cell_type": "code",
   "execution_count": 13,
   "id": "1836ad49",
   "metadata": {},
   "outputs": [
    {
     "data": {
      "text/plain": [
       "0"
      ]
     },
     "execution_count": 13,
     "metadata": {},
     "output_type": "execute_result"
    }
   ],
   "source": [
    "1//2"
   ]
  },
  {
   "cell_type": "code",
   "execution_count": 17,
   "id": "27d83fe3",
   "metadata": {},
   "outputs": [
    {
     "name": "stdout",
     "output_type": "stream",
     "text": [
      "esto es una potencia de exponentes de 54 elevado a 4 es:\n"
     ]
    },
    {
     "data": {
      "text/plain": [
       "8503056"
      ]
     },
     "execution_count": 17,
     "metadata": {},
     "output_type": "execute_result"
    }
   ],
   "source": [
    "print('esto es una potencia de exponentes de', var_2, 'elevado a', var_1, 'es:') \n",
    "var_2 ** var_1"
   ]
  },
  {
   "cell_type": "markdown",
   "id": "c4ad3d21",
   "metadata": {},
   "source": [
    "## Tipos de dartos\n",
    "\n",
    "### objetivos\n",
    "    - Hablar sobre los 4 tipos de datosbasicos de python\n",
    "\n",
    "## objetivo"
   ]
  },
  {
   "cell_type": "markdown",
   "id": "d72d817a",
   "metadata": {},
   "source": [
    "se tinen 4 tipos de datos bacicos, Veamos  en codigo y utilicemos las funciones `print` y `type`"
   ]
  },
  {
   "cell_type": "code",
   "execution_count": 19,
   "id": "6cdb9c25",
   "metadata": {},
   "outputs": [
    {
     "name": "stdout",
     "output_type": "stream",
     "text": [
      "este es un numero entero: 4598\n",
      "<class 'int'>\n",
      "\n",
      "\n",
      "este es un numero decimal: 4598.45\n",
      "<class 'float'>\n",
      "\n",
      "\n",
      "este es un numero string: 4598.45\n",
      "<class 'str'>\n",
      "\n",
      "\n",
      "este es un numero boolean: True\n",
      "<class 'bool'>\n",
      "\n",
      "\n"
     ]
    }
   ],
   "source": [
    "# este es un mumero\n",
    "\n",
    "var_int = 4598\n",
    "print('este es un numero entero:', var_int)\n",
    "print(type(var_int))\n",
    "print('\\n')\n",
    "\n",
    "# este es un numero decimal\n",
    "var_float = 4598.45\n",
    "print('este es un numero decimal:', var_float)\n",
    "print(type(var_float))\n",
    "print('\\n')\n",
    "\n",
    "# este es un numero string\n",
    "var_string = '4598.45'\n",
    "print('este es un numero string:', var_string) \n",
    "print(type(var_string))\n",
    "print('\\n')\n",
    "\n",
    "# este es un numero boolean\n",
    "var_boolean = True\n",
    "print('este es un numero boolean:', var_boolean)\n",
    "print(type(var_boolean))\n",
    "print('\\n')\n",
    "\n",
    "\n"
   ]
  }
 ],
 "metadata": {
  "kernelspec": {
   "display_name": "Python 3",
   "language": "python",
   "name": "python3"
  },
  "language_info": {
   "codemirror_mode": {
    "name": "ipython",
    "version": 3
   },
   "file_extension": ".py",
   "mimetype": "text/x-python",
   "name": "python",
   "nbconvert_exporter": "python",
   "pygments_lexer": "ipython3",
   "version": "3.7.9"
  }
 },
 "nbformat": 4,
 "nbformat_minor": 5
}
