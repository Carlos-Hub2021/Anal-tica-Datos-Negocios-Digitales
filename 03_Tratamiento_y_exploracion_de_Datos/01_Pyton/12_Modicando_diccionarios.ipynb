{
 "cells": [
  {
   "cell_type": "markdown",
   "id": "32034797",
   "metadata": {},
   "source": [
    "# Mosificando diccionarios \n",
    "---\n",
    "### 1. Objetivos \n",
    "\n",
    "> Practicar los tres metos basicos de diccionarios:\n",
    "- Agregar daros\n",
    "- Modificar datos\n",
    "- Borrar llaves\n",
    "### 2. Desarrollo\n",
    "> Tres maneras basicas de modificar el diccionario\n",
    "---"
   ]
  },
  {
   "cell_type": "markdown",
   "id": "33a88260",
   "metadata": {},
   "source": [
    "## Agregar datos\n",
    "> Agregar datos de un diccionario existente basta con llamar la llave que queremos asignar un balor \n"
   ]
  },
  {
   "cell_type": "code",
   "execution_count": 1,
   "id": "dc077dee",
   "metadata": {},
   "outputs": [],
   "source": [
    "from pprint import pprint # Pretty Print "
   ]
  },
  {
   "cell_type": "code",
   "execution_count": 7,
   "id": "2131aa38",
   "metadata": {},
   "outputs": [
    {
     "name": "stdout",
     "output_type": "stream",
     "text": [
      "{'nombre': 'Juan Perez', 'telefono': 1234567890, 'dir': {'colonia': 'Roma', 'calle': 'Av. Insurgentes', 'nume': 123, 'cp': 42827}}\n"
     ]
    }
   ],
   "source": [
    "info_de_contacto = {\n",
    "    'nombre': 'Juan Perez',\n",
    "    'telefono': 1234567890,\n",
    "    'dir':{\n",
    "        'colonia': 'Roma',\n",
    "        'calle': 'Av. Insurgentes',\n",
    "        'nume': 123,\n",
    "        'cp' : 42827\n",
    "    },\n",
    "}\n",
    "print(info_de_contacto) # Imprime el diccionario completo\n",
    "\n"
   ]
  },
  {
   "cell_type": "code",
   "execution_count": 8,
   "id": "df4e732a",
   "metadata": {},
   "outputs": [
    {
     "name": "stdout",
     "output_type": "stream",
     "text": [
      "{'dir': {'calle': 'Av. Insurgentes',\n",
      "         'colonia': 'Roma',\n",
      "         'cp': 42827,\n",
      "         'nume': 123},\n",
      " 'nombre': 'Juan Perez',\n",
      " 'telefono': 1234567890}\n"
     ]
    }
   ],
   "source": [
    "pprint(info_de_contacto) # Imprime el diccionario de forma legible\n"
   ]
  },
  {
   "cell_type": "code",
   "execution_count": 11,
   "id": "fd850b9f",
   "metadata": {},
   "outputs": [],
   "source": [
    "info_de_contacto['email'] = 'pancfito@gmail.com'\n"
   ]
  },
  {
   "cell_type": "code",
   "execution_count": 12,
   "id": "a87fe644",
   "metadata": {},
   "outputs": [
    {
     "name": "stdout",
     "output_type": "stream",
     "text": [
      "{'dir': {'calle': 'Av. Insurgentes',\n",
      "         'colonia': 'Roma',\n",
      "         'cp': 42827,\n",
      "         'nume': 123},\n",
      " 'email': 'pancfito@gmail.com',\n",
      " 'nombre': 'Juan Perez',\n",
      " 'telefono': 1234567890}\n"
     ]
    }
   ],
   "source": [
    "pprint(info_de_contacto) # Imprime el diccionario completo con el nuevo email"
   ]
  },
  {
   "cell_type": "markdown",
   "id": "c9428eff",
   "metadata": {},
   "source": [
    "## M;odificar pares llaves-valor esistentes\n",
    "\n",
    "> Para mofificar un par llave-valor"
   ]
  }
 ],
 "metadata": {
  "kernelspec": {
   "display_name": "Python 3",
   "language": "python",
   "name": "python3"
  },
  "language_info": {
   "codemirror_mode": {
    "name": "ipython",
    "version": 3
   },
   "file_extension": ".py",
   "mimetype": "text/x-python",
   "name": "python",
   "nbconvert_exporter": "python",
   "pygments_lexer": "ipython3",
   "version": "3.7.9"
  }
 },
 "nbformat": 4,
 "nbformat_minor": 5
}
