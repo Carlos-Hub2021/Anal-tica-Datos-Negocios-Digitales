{
 "cells": [
  {
   "cell_type": "markdown",
   "id": "975c3c23",
   "metadata": {},
   "source": [
    "## Listas \n",
    "\n",
    "- Objetivos\n",
    "\n",
    "1. Entender la sintacis de las listas en Python\n",
    "2. Aprender a crear listas accesarlas\n",
    "--- \n",
    "- Desarollo:\n"
   ]
  },
  {
   "cell_type": "markdown",
   "id": "48868032",
   "metadata": {},
   "source": [
    "#### Creando listas y acediendo a ellas\n",
    "\n",
    "las listas son secuencias ordenads, el orden de los datos de las lista es el mismo orden que tienen los datos a la hora de ser acignados una lista de ve asi:"
   ]
  },
  {
   "cell_type": "code",
   "execution_count": 1,
   "id": "79627bd5",
   "metadata": {},
   "outputs": [
    {
     "data": {
      "text/plain": [
       "[1, 4, 6, 2, 4]"
      ]
     },
     "execution_count": 1,
     "metadata": {},
     "output_type": "execute_result"
    }
   ],
   "source": [
    "lista_1 = [1,4,6,2,4]\n",
    "lista_1"
   ]
  },
  {
   "cell_type": "code",
   "execution_count": 2,
   "id": "fc9d5497",
   "metadata": {},
   "outputs": [
    {
     "data": {
      "text/plain": [
       "list"
      ]
     },
     "execution_count": 2,
     "metadata": {},
     "output_type": "execute_result"
    }
   ],
   "source": [
    "type(lista_1)"
   ]
  },
  {
   "cell_type": "markdown",
   "id": "8bf5db3f",
   "metadata": {},
   "source": [
    "Cada elemento de la lista tiene un indice que se usa para acceder a dicho elemento dado que las listas son ordenadas los indices se van asignando secuencialmente desde el primer elemento hace el ultimo , el primer indice es simpre `0` y por lo tanto el ultimo elemento es simpre `n-1`, donde `n` es el numero total de elementos en la lista"
   ]
  },
  {
   "cell_type": "code",
   "execution_count": 4,
   "id": "060babc3",
   "metadata": {},
   "outputs": [
    {
     "name": "stdout",
     "output_type": "stream",
     "text": [
      "Primer elemto de la lista: 1\n",
      "El ultimo de la lista es: 4\n"
     ]
    }
   ],
   "source": [
    "# imprimer elemento de la lista\n",
    "print(f'Primer elemto de la lista: {lista_1 [0]}')\n",
    "print(f'El ultimo de la lista es: {lista_1 [4]}')"
   ]
  },
  {
   "cell_type": "code",
   "execution_count": 5,
   "id": "43f66935",
   "metadata": {},
   "outputs": [
    {
     "ename": "IndexError",
     "evalue": "list index out of range",
     "output_type": "error",
     "traceback": [
      "\u001b[1;31m---------------------------------------------------------------------------\u001b[0m",
      "\u001b[1;31mIndexError\u001b[0m                                Traceback (most recent call last)",
      "\u001b[1;32m~\\AppData\\Local\\Temp\\ipykernel_11864\\3000937370.py\u001b[0m in \u001b[0;36m<module>\u001b[1;34m\u001b[0m\n\u001b[1;32m----> 1\u001b[1;33m \u001b[0mlista_1\u001b[0m\u001b[1;33m[\u001b[0m\u001b[1;36m5\u001b[0m\u001b[1;33m]\u001b[0m\u001b[1;33m\u001b[0m\u001b[1;33m\u001b[0m\u001b[0m\n\u001b[0m",
      "\u001b[1;31mIndexError\u001b[0m: list index out of range"
     ]
    }
   ],
   "source": [
    "lista_1[5] "
   ]
  },
  {
   "cell_type": "code",
   "execution_count": 2,
   "id": "5e2c52cc",
   "metadata": {},
   "outputs": [
    {
     "name": "stdout",
     "output_type": "stream",
     "text": [
      "contenido de la lista: [10, 5, 7, 2, 1]\n",
      "<class 'list'>\n"
     ]
    }
   ],
   "source": [
    "number = [10,5,7,2,1]\n",
    "print(f'contenido de la lista: {number}')\n",
    "print(type(number))"
   ]
  },
  {
   "cell_type": "code",
   "execution_count": null,
   "id": "971b3c81",
   "metadata": {},
   "outputs": [
    {
     "data": {
      "text/plain": [
       "2"
      ]
     },
     "execution_count": 4,
     "metadata": {},
     "output_type": "execute_result"
    }
   ],
   "source": [
    "#permiso de acceso a un elemento fuera del rango\n",
    "number[3]"
   ]
  },
  {
   "cell_type": "markdown",
   "id": "d0c5861e",
   "metadata": {},
   "source": [
    "vamos asiganar un valor 111 al primer elemento en una lista "
   ]
  },
  {
   "cell_type": "code",
   "execution_count": 6,
   "id": "50d87de2",
   "metadata": {},
   "outputs": [
    {
     "name": "stdout",
     "output_type": "stream",
     "text": [
      "[111, 5, 7, 2, 1]\n"
     ]
    }
   ],
   "source": [
    "number[0]= 111\n",
    "print(number)"
   ]
  },
  {
   "cell_type": "code",
   "execution_count": 9,
   "id": "9784cb76",
   "metadata": {},
   "outputs": [
    {
     "name": "stdout",
     "output_type": "stream",
     "text": [
      "Lista modificada: [111, 1, 7, 2, 1]\n"
     ]
    }
   ],
   "source": [
    "# copiar al valor del quinto elemento as segundo elemento\n",
    "number[1] = number[4]\n",
    "print(f'Lista modificada: {number}')"
   ]
  },
  {
   "cell_type": "code",
   "execution_count": 11,
   "id": "70924043",
   "metadata": {},
   "outputs": [
    {
     "name": "stdout",
     "output_type": "stream",
     "text": [
      "[111, 1, 7, 2, 1]\n",
      "1\n",
      "2\n"
     ]
    }
   ],
   "source": [
    "print(number)\n",
    "print(number [-1])  # ultimo elemento\n",
    "print(number [-2])  # penultimo elemento"
   ]
  },
  {
   "cell_type": "markdown",
   "id": "f268718d",
   "metadata": {},
   "source": [
    "### Eliminando elemntos de la lista "
   ]
  },
  {
   "cell_type": "markdown",
   "id": "dae22ef2",
   "metadata": {},
   "source": [
    "Cualquier elemento de la lista puede ser eliminado en cualquier momento - esto se hace con una instrucción llamada `del` (eliminar). Nota: es una instrucción, no una función.\n",
    "\n",
    "Tienes que apuntar al elemento que quieres eliminar - desaparecerá de la lista y la longitud de la lista se reducirá en uno."
   ]
  },
  {
   "cell_type": "code",
   "execution_count": 13,
   "id": "343d5d95",
   "metadata": {},
   "outputs": [
    {
     "name": "stdout",
     "output_type": "stream",
     "text": [
      "la lista actualizada es: [111, 1, 7, 2, 1] \n"
     ]
    }
   ],
   "source": [
    "print(f'la lista actualizada es: {number} ')\n",
    "del number[3] #elimar la pocision 3 \n"
   ]
  },
  {
   "cell_type": "code",
   "execution_count": 17,
   "id": "8e9aa319",
   "metadata": {},
   "outputs": [
    {
     "name": "stdout",
     "output_type": "stream",
     "text": [
      "Lista actual es: [111, 1, 7, 1]\n",
      "el tamaño de la lista es: 4 \n"
     ]
    }
   ],
   "source": [
    "print (f'Lista actual es: {number}')\n",
    "print(f'el tamaño de la lista es: {len(number)} ')  # longitud de la lista"
   ]
  },
  {
   "cell_type": "code",
   "execution_count": 18,
   "id": "808e0e1b",
   "metadata": {},
   "outputs": [
    {
     "name": "stdout",
     "output_type": "stream",
     "text": [
      "Lista actual es: [111, 1, 1]\n",
      "el tamaño de la lista es: 3 \n"
     ]
    }
   ],
   "source": [
    "del number[-2]  # eliminar el penultimo elemento\n",
    "print (f'Lista actual es: {number}')\n",
    "print(f'el tamaño de la lista es: {len(number)} ')  "
   ]
  },
  {
   "cell_type": "code",
   "execution_count": 19,
   "id": "add32c19",
   "metadata": {},
   "outputs": [
    {
     "name": "stdout",
     "output_type": "stream",
     "text": [
      "lista actual es:  [1, 4, 6, 2, 11]\n",
      "el tamaño de la lista es: 5 \n"
     ]
    }
   ],
   "source": [
    "lista_prueba = [1,2,4,6,2,11]\n",
    "\n",
    "# Remove -> elimina o remueve el primer elemento que coincida con el valor especificado\n",
    "\n",
    "lista_prueba.remove(2)\n",
    "print(f'lista actual es:  {lista_prueba}')\n",
    "print(f'el tamaño de la lista es: {len(lista_prueba)} ')"
   ]
  },
  {
   "cell_type": "markdown",
   "id": "85e4c970",
   "metadata": {},
   "source": [
    "---\n"
   ]
  },
  {
   "cell_type": "code",
   "execution_count": 36,
   "id": "3353126f",
   "metadata": {},
   "outputs": [],
   "source": [
    "lista_prueba = [1,2,4,6,2,11,2]\n"
   ]
  },
  {
   "cell_type": "code",
   "execution_count": 33,
   "id": "52e0e5c1",
   "metadata": {},
   "outputs": [],
   "source": [
    "def eliminar (valor):\n",
    "    for indice, elemento in enumerate(lista_prueba):\n",
    "        #print(f'Indice: {indice}, Elemento: {elemento}')\n",
    "        if elemento == valor:\n",
    "            del lista_prueba[indice]\n",
    "            \n",
    "       "
   ]
  },
  {
   "cell_type": "code",
   "execution_count": 37,
   "id": "d1309b9c",
   "metadata": {},
   "outputs": [
    {
     "name": "stdout",
     "output_type": "stream",
     "text": [
      "lista actual es: [1, 2, 4, 6, 2, 11, 2]\n",
      "lista despues de eliminar el valor 2: [1, 4, 6, 11]\n"
     ]
    }
   ],
   "source": [
    "print (f'lista actual es: {lista_prueba}')\n",
    "\n",
    "eliminar(2)\n",
    "print (f'lista despues de eliminar el valor 2: {lista_prueba}')\n",
    "\n",
    "# El resultado de la funcion eliminar no es el esperado, ya que al eliminar un elemento, los indices cambian y se salta un elemento.\n",
    "# Por ejemplo, si tenemos [1, 2, 3, 4] y eliminamos el 2, la lista se convierte en [1, 3, 4].\n",
    "# Al iterar, el siguiente elemento a revisar es el 3, pero el 4 no se revisa porque el indice se incrementa.\n",
    "# Para solucionar esto, podemos iterar sobre una copia de la lista o usar un bucle"
   ]
  },
  {
   "cell_type": "markdown",
   "id": "ea848072",
   "metadata": {},
   "source": [
    "---"
   ]
  },
  {
   "cell_type": "markdown",
   "id": "96c2582c",
   "metadata": {},
   "source": [
    "### Los Indices Negativos son legales\n",
    "\n",
    "`un elemnto con indice a -1 es el ultimo en la lista`"
   ]
  },
  {
   "cell_type": "code",
   "execution_count": 38,
   "id": "3c788473",
   "metadata": {},
   "outputs": [
    {
     "name": "stdout",
     "output_type": "stream",
     "text": [
      "el ultimo valor de la lista es: 7\n"
     ]
    }
   ],
   "source": [
    "nomber_2  = [111,7,2,1]\n",
    "print(f'el ultimo valor de la lista es: {nomber_2[-3]}')"
   ]
  },
  {
   "cell_type": "markdown",
   "id": "d7e4f0b3",
   "metadata": {},
   "source": [
    "\n",
    "\n",
    "\n",
    "el metodo `insert()` es un poco mas inteligente - puede agregar un nuevo valor o elemento en cualquier lugar de la lista no solo al final \n",
    "\n",
    "`list.insert(location , value)`\n",
    "\n",
    "- el primero muestra la ubicación requerida del elemento a insertar; nota: todos los elementos existentes que ocupan ubicaciones a la derecha del nuevo elemento (incluido el que está en la posición indicada) se desplazan a la derecha, para hacer espacio para el nuevo elemento;\n",
    "\n",
    "\n"
   ]
  },
  {
   "cell_type": "code",
   "execution_count": 40,
   "id": "68c49529",
   "metadata": {},
   "outputs": [
    {
     "name": "stdout",
     "output_type": "stream",
     "text": [
      "la lista origuinal es : [123, 8, 4, 1]\n",
      " El tamaño de la lista es 4\n",
      "la lista despues de agregar al final es  : [123, 8, 4, 1, 10]\n",
      " El tamaño de la lista es 5\n"
     ]
    }
   ],
   "source": [
    "number_3 = [123,8,4,1]\n",
    "print (f'la lista origuinal es : {number_3}')\n",
    "print (f' El tamaño de la lista es {len(number_3)}')\n",
    "\n",
    "number_3.append(10)\n",
    "\n",
    "print (f'la lista despues de agregar al final es  : {number_3}')\n",
    "print (f' El tamaño de la lista es {len(number_3)}')"
   ]
  },
  {
   "cell_type": "code",
   "execution_count": 45,
   "id": "049ac65f",
   "metadata": {},
   "outputs": [
    {
     "name": "stdout",
     "output_type": "stream",
     "text": [
      "la lista actual es [123, 8, 4, 1, 11]\n",
      " El tamaño de la lista es 5\n",
      "la lista actual es [222, 123, 8, 4, 1, 11]\n",
      " El tamaño de la lista es 6\n"
     ]
    }
   ],
   "source": [
    "# metodo insert\n",
    "print(f'la lista actual es {number_3}')\n",
    "print (f' El tamaño de la lista es {len(number_3)}')\n",
    "\n",
    "number_3.insert(0,222)\n",
    "print(f'la lista actual es {number_3}')\n",
    "print (f' El tamaño de la lista es {len(number_3)}')\n"
   ]
  },
  {
   "cell_type": "code",
   "execution_count": 54,
   "id": "f6bedf41",
   "metadata": {},
   "outputs": [],
   "source": [
    "def llenar_lista_append (valor):\n",
    "    my_list =[] # crea una lista vacia \n",
    "\n",
    "    for i in range (valor):\n",
    "        my_list.append(i+1)\n",
    "    return my_list"
   ]
  },
  {
   "cell_type": "code",
   "execution_count": 49,
   "id": "baefb8a4",
   "metadata": {},
   "outputs": [],
   "source": [
    "def imprimir_lista (lista):\n",
    "    print(f' la lista es {lista}')"
   ]
  },
  {
   "cell_type": "code",
   "execution_count": 55,
   "id": "333a1eb7",
   "metadata": {},
   "outputs": [
    {
     "name": "stdout",
     "output_type": "stream",
     "text": [
      " la lista es [1, 2, 3, 4, 5, 6, 7, 8, 9, 10]\n"
     ]
    }
   ],
   "source": [
    "lista = llenar_lista_append (10)\n",
    "imprimir_lista(lista)\n"
   ]
  },
  {
   "cell_type": "markdown",
   "id": "d22136b0",
   "metadata": {},
   "source": [
    "### vamos a recorer la lista con un siclo\n"
   ]
  },
  {
   "cell_type": "code",
   "execution_count": 56,
   "id": "0f786010",
   "metadata": {},
   "outputs": [
    {
     "name": "stdout",
     "output_type": "stream",
     "text": [
      "10\n",
      "1\n",
      "8\n",
      "3\n",
      "5\n"
     ]
    }
   ],
   "source": [
    "mi_lista = [10,1,8,3,5]\n",
    "\n",
    "for i in mi_lista:\n",
    "    print(i)"
   ]
  },
  {
   "cell_type": "code",
   "execution_count": 57,
   "id": "7976732e",
   "metadata": {},
   "outputs": [
    {
     "name": "stdout",
     "output_type": "stream",
     "text": [
      "la suma de los valores de la lista es: 27\n"
     ]
    }
   ],
   "source": [
    "# sumar los valores de la lista\n",
    "\n",
    "total =0\n",
    "\n",
    "for i in mi_lista:\n",
    "    total+=i\n",
    "\n",
    "print(f'la suma de los valores de la lista es: {total}')\n"
   ]
  },
  {
   "cell_type": "markdown",
   "id": "483449c6",
   "metadata": {},
   "source": [
    "### Realizar un programa que peri¿mita almacenar varias calificasiones primero en una lista para despues sacar el promedio de esllas  utilizando una funcion "
   ]
  },
  {
   "cell_type": "code",
   "execution_count": 60,
   "id": "c43f28e5",
   "metadata": {},
   "outputs": [],
   "source": [
    "def guardar_calificaciones (numero):\n",
    "    lista_calificaciones = []\n",
    "    i = 1\n",
    "    while i<=numero:\n",
    "        calificaciones = float(input(f'solicitar calificasion {i}'))\n",
    "        lista_calificaciones.append(calificaciones)\n",
    "        i += 1\n",
    "    \n",
    "    return lista_calificaciones"
   ]
  },
  {
   "cell_type": "code",
   "execution_count": null,
   "id": "069745b8",
   "metadata": {},
   "outputs": [],
   "source": [
    "lista = guardar_calificaciones (5)\n",
    "print(lista)\n",
    "\n"
   ]
  },
  {
   "cell_type": "code",
   "execution_count": 62,
   "id": "5fe830e8",
   "metadata": {},
   "outputs": [],
   "source": [
    "# obcion dos\n",
    "def guardar_calificaciones2 (numero):\n",
    "    lista_calificaciones = []\n",
    "    i = 1\n",
    "\n",
    "    for i in range(numero):\n",
    "        calificaciones = float(input(f'solicitar calificasion {i}'))\n",
    "        lista_calificaciones.append(calificaciones)\n",
    "        \n",
    "    \n",
    "    return lista_calificaciones"
   ]
  },
  {
   "cell_type": "code",
   "execution_count": 63,
   "id": "58f92179",
   "metadata": {},
   "outputs": [
    {
     "name": "stdout",
     "output_type": "stream",
     "text": [
      "[5.6, 8.3, 9.2, 1.0, 5.0]\n"
     ]
    }
   ],
   "source": [
    "lista = guardar_calificaciones2 (5)\n",
    "print(lista)\n",
    "\n"
   ]
  },
  {
   "cell_type": "markdown",
   "id": "d73c81fa",
   "metadata": {},
   "source": [
    "---\n"
   ]
  },
  {
   "cell_type": "code",
   "execution_count": 53,
   "id": "d726bc09",
   "metadata": {},
   "outputs": [
    {
     "name": "stdout",
     "output_type": "stream",
     "text": [
      "[5, 4, 3, 2, 1]\n"
     ]
    }
   ],
   "source": [
    "my_list = []\n",
    "\n",
    "for i in range (5):\n",
    "    my_list.insert(0, i +1)\n",
    "\n",
    "print(my_list)"
   ]
  },
  {
   "cell_type": "markdown",
   "id": "fdec4947",
   "metadata": {},
   "source": [
    "---\n"
   ]
  },
  {
   "cell_type": "code",
   "execution_count": null,
   "id": "ccfb86c0",
   "metadata": {},
   "outputs": [],
   "source": [
    "def agregarAlfinal (valor):\n",
    "    number_3 [-1] = valor"
   ]
  },
  {
   "cell_type": "code",
   "execution_count": null,
   "id": "827bc4c6",
   "metadata": {},
   "outputs": [
    {
     "name": "stdout",
     "output_type": "stream",
     "text": [
      "lsustitulle el valor 10 por 11  : [123, 8, 4, 1, 11]\n",
      " El tamaño de la lista es 5\n"
     ]
    }
   ],
   "source": [
    "agregarAlfinal(11)\n",
    "print (f'lsustitulle el valor 10 por 11  : {number_3}')\n",
    "print (f' El tamaño de la lista es {len(number_3)}')"
   ]
  },
  {
   "cell_type": "markdown",
   "id": "24ec4668",
   "metadata": {},
   "source": [
    "---"
   ]
  }
 ],
 "metadata": {
  "kernelspec": {
   "display_name": "Python 3",
   "language": "python",
   "name": "python3"
  },
  "language_info": {
   "codemirror_mode": {
    "name": "ipython",
    "version": 3
   },
   "file_extension": ".py",
   "mimetype": "text/x-python",
   "name": "python",
   "nbconvert_exporter": "python",
   "pygments_lexer": "ipython3",
   "version": "3.7.9"
  }
 },
 "nbformat": 4,
 "nbformat_minor": 5
}
